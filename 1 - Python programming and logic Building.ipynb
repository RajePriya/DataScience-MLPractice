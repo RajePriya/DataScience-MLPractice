{
 "cells": [
  {
   "cell_type": "markdown",
   "id": "e974106a",
   "metadata": {},
   "source": [
    "# 1 - Introduction and Basics"
   ]
  },
  {
   "cell_type": "markdown",
   "id": "599a5791",
   "metadata": {},
   "source": [
    "- Installation\n",
    "- python Org, Python 3\n",
    "- Variables\n",
    "- Print Function\n",
    "- Input form user\n",
    "- Data Types\n",
    "- Type Conversion\n",
    "- First Program"
   ]
  },
  {
   "cell_type": "markdown",
   "id": "07eea7b7",
   "metadata": {},
   "source": [
    "## PYTHON definition:-\n",
    "\n",
    "Python is a high-level, user-friendly programming language known for its simplicity and readability. It is used to create computer programs by writing instructions that a computer can understand and execute. Python's straightforward syntax, large community support, and vast collection of built-in libraries make it a popular choice for a wide range of applications, from web development and data analysis to artificial intelligence and scientific research.\n",
    "\n",
    "\n",
    "1. Easy to Read: Python code looks a lot like sentences in English, so it's easier for humans to understand.\n",
    "\n",
    "2. No Need to Compile: You don't have to do a special step called \"compiling\" before running your code. You can write and run Python code right away.\n",
    "\n",
    "3. Can Do Many Things: Python can be used to create websites, analyze data, build games, and lots more. It's like a versatile toolbox for computer tasks.\n",
    "\n",
    "4. Lots of Help: There are many people who use Python, so you can find lots of helpful resources and pre-made pieces of code (called libraries) to make your work easier.\n",
    "\n",
    "5. Works on Different Computers: Python can run on different types of computers, so you can use it on Windows, Mac, or Linux."
   ]
  },
  {
   "cell_type": "markdown",
   "id": "89f58aa0",
   "metadata": {},
   "source": [
    "## VARIABLES:-\n",
    "Variables are containers for storing data values.You can think of a variable as a named container that holds a value. Variables are crucial in programming because they allow you to store and manipulate data in your programs.\n",
    "\n",
    "Here are some key points about variables in Python:\n",
    "\n",
    "1. Variable Naming: Variable names must follow certain rules:\n",
    "- They can include letters (both uppercase and lowercase), digits, and underscores.\n",
    "- Variable names cannot start with a digit.\n",
    "- Python is case-sensitive, so myVar and myvar are considered different variables.\n",
    "- Variable names should be descriptive and meaningful to make your code easier to understand.\n",
    "\n",
    "2. Variable Assignment: You assign a value to a variable using the assignment operator =.\n",
    "    In this example, my_variable is the variable name, and 42 is the assigned value.\n",
    "    \n",
    "3. Data Types: Python is dynamically typed, which means you don't need to declare the data type of a variable explicitly. The interpreter determines the data type based on the assigned value. Common data types in Python include integers (int), floating-point numbers (float), strings (str), lists (list), and more.\n",
    "\n",
    "4. Reassigning Variables: You can change the value stored in a variable by assigning it a new value. \n",
    "   In this case, my_variable initially stores an integer and is later reassigned to a string.\n",
    "   \n",
    "5. Variable Names Convention: While Python allows you to use a variety of variable names, it's a good practice to follow naming conventions for readability. For example:\n",
    "- Use lowercase letters for variable names.\n",
    "- Separate words in variable names with underscores (snake_case) for better readability.\n",
    "- Use uppercase letters for constants (variables with values that should not change) and separate words with underscores (CAPITALIZED_SNAKE_CASE).\n",
    "\n",
    "\n",
    "6. Reserved Keywords: Python has a set of reserved keywords (e.g., if, while, for, class) that you cannot use as variable names because they have special meanings in the language."
   ]
  },
  {
   "cell_type": "code",
   "execution_count": 3,
   "id": "37cf624a",
   "metadata": {},
   "outputs": [],
   "source": [
    "## Variable Assignment:\n",
    "my_variable = 42\n",
    "## Reassigning Variables:\n",
    "my_variable = 42\n",
    "my_variable = \"Hello, Python!\""
   ]
  },
  {
   "cell_type": "code",
   "execution_count": 4,
   "id": "62d1f854",
   "metadata": {},
   "outputs": [],
   "source": [
    "# Assigning values to variables\n",
    "name = \"Alice\"\n",
    "age = 30\n",
    "pi = 3.14159\n",
    "\n",
    "# Reassigning a variable\n",
    "age = 31\n",
    "\n",
    "# Using variables in expressions\n",
    "circumference = 2 * pi * age\n",
    "\n",
    "# Concatenating strings using variables\n",
    "greeting = \"Hello, \" + name"
   ]
  },
  {
   "cell_type": "markdown",
   "id": "9d42fc47",
   "metadata": {},
   "source": [
    "### Creating Variables\n",
    "Python has no command for declaring a variable.\n",
    "A variable is created the moment you first assign a value to it."
   ]
  },
  {
   "cell_type": "code",
   "execution_count": 6,
   "id": "473a9d71",
   "metadata": {},
   "outputs": [
    {
     "name": "stdout",
     "output_type": "stream",
     "text": [
      "<class 'int'>\n",
      "<class 'str'>\n"
     ]
    }
   ],
   "source": [
    "x = 5\n",
    "y = \"John\"\n",
    "print(type(x))\n",
    "print(type(y))"
   ]
  },
  {
   "cell_type": "code",
   "execution_count": 8,
   "id": "79442fb4",
   "metadata": {},
   "outputs": [
    {
     "name": "stdout",
     "output_type": "stream",
     "text": [
      "Raje Priya\n",
      "Raje Priya\n"
     ]
    }
   ],
   "source": [
    "# Single or Double Quotes?   - String variables can be declared either by using single or double quotes:\n",
    "x = \"Raje Priya\"\n",
    "# is the same as\n",
    "x = 'Raje Priya'\n",
    "\n",
    "print(x)\n",
    "print(x)"
   ]
  },
  {
   "cell_type": "code",
   "execution_count": 10,
   "id": "8b82baa4",
   "metadata": {},
   "outputs": [
    {
     "name": "stdout",
     "output_type": "stream",
     "text": [
      "4\n",
      "Raje\n"
     ]
    }
   ],
   "source": [
    "# Case-Sensitive - Variable names are case-sensitive.\n",
    "\n",
    "a = 4\n",
    "A = \"Raje\"\n",
    "# A will not overwrite a\n",
    "\n",
    "print(a)\n",
    "print(A)"
   ]
  },
  {
   "cell_type": "markdown",
   "id": "a37bca78",
   "metadata": {},
   "source": [
    "### Variable Names\n",
    "A variable can have a short name (like x and y) or a more descriptive name (age, carname, total_volume). Rules for Python variables:\n",
    "- A variable name must start with a letter or the underscore character\n",
    "- A variable name cannot start with a number\n",
    "- A variable name can only contain alpha-numeric characters and underscores (A-z, 0-9, and _ )\n",
    "- Variable names are case-sensitive (age, Age and AGE are three different variables)\n",
    "- A variable name cannot be any of the Python keywords."
   ]
  },
  {
   "cell_type": "code",
   "execution_count": 13,
   "id": "83b82a7a",
   "metadata": {},
   "outputs": [
    {
     "name": "stdout",
     "output_type": "stream",
     "text": [
      "John\n",
      "John\n",
      "John\n",
      "John\n",
      "John\n",
      "John\n"
     ]
    }
   ],
   "source": [
    "myvar = \"John\"\n",
    "my_var = \"John\"\n",
    "_my_var = \"John\"\n",
    "myVar = \"John\"\n",
    "MYVAR = \"John\"\n",
    "myvar2 = \"John\"\n",
    "\n",
    "\n",
    "\n",
    "print(myvar)\n",
    "print(my_var)\n",
    "print(_my_var)\n",
    "print(myVar)\n",
    "print(MYVAR)\n",
    "print(myvar2)"
   ]
  },
  {
   "cell_type": "code",
   "execution_count": 14,
   "id": "3b17c552",
   "metadata": {},
   "outputs": [
    {
     "ename": "SyntaxError",
     "evalue": "invalid syntax (4280966936.py, line 2)",
     "output_type": "error",
     "traceback": [
      "\u001b[1;36m  File \u001b[1;32m\"C:\\Users\\Hp\\AppData\\Local\\Temp\\ipykernel_13972\\4280966936.py\"\u001b[1;36m, line \u001b[1;32m2\u001b[0m\n\u001b[1;33m    2myvar = \"John\"\u001b[0m\n\u001b[1;37m     ^\u001b[0m\n\u001b[1;31mSyntaxError\u001b[0m\u001b[1;31m:\u001b[0m invalid syntax\n"
     ]
    }
   ],
   "source": [
    "# Illegal variable names:\n",
    "2myvar = \"John\"\n",
    "my-var = \"John\"\n",
    "my var = \"Johan\""
   ]
  },
  {
   "cell_type": "markdown",
   "id": "af45832a",
   "metadata": {},
   "source": [
    "#### Multi Words Variable Names\n",
    "Variable names with more than one word can be difficult to read.\n",
    "There are several techniques you can use to make them more readable:\n",
    "\n"
   ]
  },
  {
   "cell_type": "code",
   "execution_count": 15,
   "id": "06acc804",
   "metadata": {},
   "outputs": [],
   "source": [
    "#### Camel Case - Each word, except the first, starts with a capital letter:\n",
    "myVariableName = \"John\""
   ]
  },
  {
   "cell_type": "code",
   "execution_count": 16,
   "id": "63088b75",
   "metadata": {},
   "outputs": [],
   "source": [
    "## Pascal Case - Each word starts with a capital letter:\n",
    "MyVariableName = \"John\""
   ]
  },
  {
   "cell_type": "code",
   "execution_count": 17,
   "id": "6428d016",
   "metadata": {},
   "outputs": [],
   "source": [
    "## Snake Case - Each word is separated by an underscore character:\n",
    "my_variable_name = \"John\""
   ]
  },
  {
   "cell_type": "markdown",
   "id": "41d63925",
   "metadata": {},
   "source": [
    "### Python Variables - Assign Multiple Values"
   ]
  },
  {
   "cell_type": "code",
   "execution_count": 18,
   "id": "5e8cad5e",
   "metadata": {},
   "outputs": [
    {
     "name": "stdout",
     "output_type": "stream",
     "text": [
      "Orange\n",
      "Banana\n",
      "Cherry\n"
     ]
    }
   ],
   "source": [
    "# Many Values to Multiple Variables - Python allows you to assign values to multiple variables in one line:\n",
    "x, y, z = \"Orange\", \"Banana\", \"Cherry\"\n",
    "print(x)\n",
    "print(y)\n",
    "print(z)"
   ]
  },
  {
   "cell_type": "code",
   "execution_count": 19,
   "id": "ce6ab8f3",
   "metadata": {},
   "outputs": [
    {
     "name": "stdout",
     "output_type": "stream",
     "text": [
      "apple\n",
      "banana\n",
      "cherry\n"
     ]
    }
   ],
   "source": [
    "## Unpack a Collection - If you have a collection of values in a list, tuple etc. Python allows you to extract the values into variables. This is called unpacking.\n",
    "fruits = [\"apple\", \"banana\", \"cherry\"]\n",
    "x, y, z = fruits\n",
    "print(x)\n",
    "print(y)\n",
    "print(z)"
   ]
  },
  {
   "cell_type": "markdown",
   "id": "a7796b41",
   "metadata": {},
   "source": [
    "### Output Variables"
   ]
  },
  {
   "cell_type": "code",
   "execution_count": 20,
   "id": "77d8d2a4",
   "metadata": {},
   "outputs": [
    {
     "name": "stdout",
     "output_type": "stream",
     "text": [
      "Python is awesome\n"
     ]
    }
   ],
   "source": [
    "# Output Variables - The Python print() function is often used to output variables.\n",
    "x = \"Python is awesome\"\n",
    "print(x)"
   ]
  },
  {
   "cell_type": "code",
   "execution_count": 21,
   "id": "7645276e",
   "metadata": {},
   "outputs": [
    {
     "name": "stdout",
     "output_type": "stream",
     "text": [
      "Python is awesome\n"
     ]
    }
   ],
   "source": [
    "# In the print() function, you output multiple variables, separated by a comma:\n",
    "x = \"Python\"\n",
    "y = \"is\"\n",
    "z = \"awesome\"\n",
    "print(x, y, z)"
   ]
  },
  {
   "cell_type": "code",
   "execution_count": 23,
   "id": "fef1ccd9",
   "metadata": {},
   "outputs": [
    {
     "name": "stdout",
     "output_type": "stream",
     "text": [
      "Pythonisawesome\n"
     ]
    }
   ],
   "source": [
    "# You can also use the + operator to output multiple variables:\n",
    "x = \"Python\"\n",
    "y = \"is\"\n",
    "z = \"awesome\"\n",
    "print(x + y + z)\n",
    "\n",
    "# Notice the space character after \"Python \" and \"is \",\n",
    "# without them the result would be \"Pythonisawesome\"."
   ]
  },
  {
   "cell_type": "code",
   "execution_count": 24,
   "id": "7d8a51c1",
   "metadata": {},
   "outputs": [
    {
     "name": "stdout",
     "output_type": "stream",
     "text": [
      "15\n"
     ]
    }
   ],
   "source": [
    "# For numbers, the + character works as a mathematical operator:\n",
    "x = 5\n",
    "y = 10\n",
    "print(x+y)"
   ]
  },
  {
   "cell_type": "code",
   "execution_count": 25,
   "id": "4548d413",
   "metadata": {},
   "outputs": [
    {
     "ename": "TypeError",
     "evalue": "unsupported operand type(s) for +: 'int' and 'str'",
     "output_type": "error",
     "traceback": [
      "\u001b[1;31m---------------------------------------------------------------------------\u001b[0m",
      "\u001b[1;31mTypeError\u001b[0m                                 Traceback (most recent call last)",
      "\u001b[1;32m~\\AppData\\Local\\Temp\\ipykernel_13972\\3589087882.py\u001b[0m in \u001b[0;36m<module>\u001b[1;34m\u001b[0m\n\u001b[0;32m      4\u001b[0m \u001b[0mx\u001b[0m \u001b[1;33m=\u001b[0m \u001b[1;36m5\u001b[0m\u001b[1;33m\u001b[0m\u001b[1;33m\u001b[0m\u001b[0m\n\u001b[0;32m      5\u001b[0m \u001b[0my\u001b[0m \u001b[1;33m=\u001b[0m \u001b[1;34m\"John\"\u001b[0m\u001b[1;33m\u001b[0m\u001b[1;33m\u001b[0m\u001b[0m\n\u001b[1;32m----> 6\u001b[1;33m \u001b[0mprint\u001b[0m\u001b[1;33m(\u001b[0m\u001b[0mx\u001b[0m\u001b[1;33m+\u001b[0m\u001b[0my\u001b[0m\u001b[1;33m)\u001b[0m\u001b[1;33m\u001b[0m\u001b[1;33m\u001b[0m\u001b[0m\n\u001b[0m",
      "\u001b[1;31mTypeError\u001b[0m: unsupported operand type(s) for +: 'int' and 'str'"
     ]
    }
   ],
   "source": [
    "# In the print() function, when you try to combine a string and a number with the + operator,\n",
    "# Python will give you an error:\n",
    "\n",
    "x = 5\n",
    "y = \"John\"\n",
    "print(x+y)"
   ]
  },
  {
   "cell_type": "code",
   "execution_count": 26,
   "id": "7d900f5e",
   "metadata": {},
   "outputs": [
    {
     "name": "stdout",
     "output_type": "stream",
     "text": [
      "5 John\n"
     ]
    }
   ],
   "source": [
    "# The best way to output multiple variables in the print() function is to separate them with \n",
    "# commas, which even support different data types:\n",
    "x = 5\n",
    "y = \"John\"\n",
    "print(x, y)"
   ]
  },
  {
   "cell_type": "markdown",
   "id": "cd46e91f",
   "metadata": {},
   "source": [
    "### Global Variables"
   ]
  },
  {
   "cell_type": "markdown",
   "id": "c95e5b69",
   "metadata": {},
   "source": [
    "Variables that are created outside of a function (as in all of the examples above) are known as global variables.\n",
    "\n",
    "Global variables can be used by everyone, both inside of functions and outside."
   ]
  },
  {
   "cell_type": "code",
   "execution_count": 28,
   "id": "59ac98a6",
   "metadata": {},
   "outputs": [
    {
     "name": "stdout",
     "output_type": "stream",
     "text": [
      "Python is awesome\n"
     ]
    }
   ],
   "source": [
    "x = \"awesome\"\n",
    "\n",
    "def myfun():\n",
    "    print(\"Python is \" + x) \n",
    "myfun()"
   ]
  },
  {
   "cell_type": "markdown",
   "id": "86af4a69",
   "metadata": {},
   "source": [
    "If you create a variable with the same name inside a function, this variable will be local, and can only be used inside the function. The global variable with the same name will remain as it was, global and with the original value."
   ]
  },
  {
   "cell_type": "code",
   "execution_count": 29,
   "id": "ca5c93b0",
   "metadata": {},
   "outputs": [
    {
     "name": "stdout",
     "output_type": "stream",
     "text": [
      "Python is fantastic\n",
      "Python is awesome\n"
     ]
    }
   ],
   "source": [
    "x = \"awesome\"\n",
    "\n",
    "def myfun():\n",
    "    x = \"fantastic\"\n",
    "    print(\"Python is \" + x)\n",
    "\n",
    "myfun()\n",
    "\n",
    "print(\"Python is \" + x)"
   ]
  },
  {
   "cell_type": "markdown",
   "id": "eeabe755",
   "metadata": {},
   "source": [
    "#### The global Keyword\n",
    "Normally, when you create a variable inside a function, that variable is local, and can only be used inside that function.\n",
    "\n",
    "To create a global variable inside a function, you can use the global keyword."
   ]
  },
  {
   "cell_type": "code",
   "execution_count": 30,
   "id": "ff3fde2f",
   "metadata": {},
   "outputs": [
    {
     "name": "stdout",
     "output_type": "stream",
     "text": [
      "Python is fantastic\n"
     ]
    }
   ],
   "source": [
    "def myfun():\n",
    "    global x\n",
    "    x = \"fantastic\"\n",
    "    \n",
    "myfun()\n",
    "\n",
    "print(\"Python is \" + x)\n",
    "\n",
    "# Also, use the global keyword if you want to change a global variable inside a function."
   ]
  },
  {
   "cell_type": "code",
   "execution_count": 31,
   "id": "e5f454cb",
   "metadata": {},
   "outputs": [
    {
     "name": "stdout",
     "output_type": "stream",
     "text": [
      "Python is fantastic\n"
     ]
    }
   ],
   "source": [
    "# To change the value of a global variable inside a function, refer to the variable by using the global keyword:\n",
    "\n",
    "x = \"awesome\"\n",
    "\n",
    "def myfun():\n",
    "    global x\n",
    "    x = \"fantastic\"\n",
    "    \n",
    "myfun()\n",
    "\n",
    "print(\"Python is \" + x)"
   ]
  },
  {
   "cell_type": "markdown",
   "id": "b423c7cc",
   "metadata": {},
   "source": [
    "# PRINT Functon"
   ]
  },
  {
   "cell_type": "markdown",
   "id": "08c886f1",
   "metadata": {},
   "source": [
    "The print() function in Python is used to output information to the console or terminal. It takes one or more arguments and displays them as text on the screen.\n",
    "\n",
    "The print() function prints the specified message to the screen, or other standard output device.\n",
    "\n",
    "The message can be a string, or any other object, the object will be converted into a string before written to the screen."
   ]
  },
  {
   "cell_type": "markdown",
   "id": "c684507c",
   "metadata": {},
   "source": [
    "##### Parameter Values\n",
    "  Parameter   \t                                  Description\n",
    "\n",
    "object(s)\t           Any object, and as many as you like. Will be converted to string before printed\n",
    "sep='separator'\t       Optional. Specify how to separate the objects, if there is more than one.                              Default is ' '\n",
    "end='end'\t           Optional. Specify what to print at the end. Default is '\\n' (line feed)\n",
    "file\t               Optional. An object with a write method. Default is sys.stdout\n",
    "flush\t               Optional. A Boolean, specifying if the output is flushed (True) or buffered                            (False). Default is False"
   ]
  },
  {
   "cell_type": "code",
   "execution_count": null,
   "id": "81163ef6",
   "metadata": {},
   "outputs": [],
   "source": [
    "print(value1, value2, ..., sep=' ', end='\\n', file=sys.stdout, flush=False)"
   ]
  },
  {
   "cell_type": "markdown",
   "id": "1157f686",
   "metadata": {},
   "source": [
    "- value1, value2, ...: These are the values or expressions that you want to print. You can provide multiple values separated by commas, and print() will display them one after the other.\n",
    "\n",
    "- sep: This parameter specifies the separator between the values. By default, it is a space (' '), but you can change it to any character or string.\n",
    "\n",
    "- end: This parameter specifies what should be printed at the end of the print() statement. By default, it is a newline character ('\\n'), which means a new line will start after the printed content. You can change it to any other string or character.\n",
    "\n",
    "- file: This parameter specifies the file where the output should be directed. By default, it is sys.stdout, which means the output is displayed in the console. You can redirect the output to a different file by providing a file object here.\n",
    "\n",
    "- flush: This parameter, if set to True, forces the output to be flushed immediately. By default, it is False, which means the output may be buffered before being displayed."
   ]
  },
  {
   "cell_type": "code",
   "execution_count": 33,
   "id": "b4db01a1",
   "metadata": {},
   "outputs": [
    {
     "name": "stdout",
     "output_type": "stream",
     "text": [
      "Hello, Python!\n",
      "Name: Alice Age: 30\n",
      "One, Two, Three!\n",
      "Flushing...\n"
     ]
    }
   ],
   "source": [
    "# Basic usage\n",
    "print(\"Hello, Python!\")\n",
    "\n",
    "# Printing variables\n",
    "name = \"Alice\"\n",
    "age = 30\n",
    "print(\"Name:\", name, \"Age:\", age)\n",
    "\n",
    "# Custom separator and end characters\n",
    "print(\"One\", \"Two\", \"Three\", sep=', ', end='!\\n')\n",
    "\n",
    "# Redirecting output to a file\n",
    "with open(\"output.txt\", \"w\") as f:\n",
    "    print(\"This will be written to a file.\", file=f)\n",
    "\n",
    "# Flushing output immediately\n",
    "print(\"Flushing...\", flush=True)\n",
    "\n",
    "# The print() function is a fundamental tool for displaying information in Python, \n",
    "# whether it's simple text, variable values, or more complex data. You can customize the way\n",
    "# information is displayed by using the optional parameters sep, end, file, and flush."
   ]
  },
  {
   "cell_type": "markdown",
   "id": "1bc32437",
   "metadata": {},
   "source": [
    "# INPUT from User"
   ]
  },
  {
   "cell_type": "markdown",
   "id": "f306adce",
   "metadata": {},
   "source": [
    "To get input from a user using the input() function. The input() function displays a prompt to the user, waits for them to enter text or data, and then returns the entered text as a string."
   ]
  },
  {
   "cell_type": "code",
   "execution_count": null,
   "id": "dcbeea3a",
   "metadata": {},
   "outputs": [],
   "source": [
    "user_input = input(promt)\n",
    "\n",
    "#prompt: This is an optional string parameter that is displayed as a prompt to the user. \n",
    "#It informs the user about what kind of input is expected."
   ]
  },
  {
   "cell_type": "code",
   "execution_count": 36,
   "id": "a384721c",
   "metadata": {},
   "outputs": [
    {
     "name": "stdout",
     "output_type": "stream",
     "text": [
      "Please enter your name: Raje Priya\n",
      "Hello, Raje Priya!\n"
     ]
    }
   ],
   "source": [
    "# Get the user's name as input and store it in a variable\n",
    "name = input(\"Please enter your name: \")\n",
    "\n",
    "# Display a greeting using the entered name\n",
    "print(\"Hello, \" + name + \"!\")"
   ]
  },
  {
   "cell_type": "markdown",
   "id": "296cabfc",
   "metadata": {},
   "source": [
    "When this code is executed, it will display the message \"Please enter your name: \" to the user, wait for the user to type their name, and then store the entered name in the name variable. Finally, it will print a greeting using the entered name.\n",
    "\n",
    "Keep in mind that the input() function always returns the user's input as a string, so if you need to perform numerical operations with the input, you may need to convert it to an integer or float using functions like int() or float():"
   ]
  },
  {
   "cell_type": "code",
   "execution_count": 38,
   "id": "3e97e207",
   "metadata": {},
   "outputs": [
    {
     "name": "stdout",
     "output_type": "stream",
     "text": [
      "Please enter your age: 22\n",
      "You were born in 2001.\n"
     ]
    }
   ],
   "source": [
    "# Get the user's age as input and convert it to an integer\n",
    "age_str = input(\"Please enter your age: \")\n",
    "age = int(age_str)\n",
    "\n",
    "# Calculate and display the user's birth year\n",
    "current_year = 2023\n",
    "birth_year = current_year - age\n",
    "print(\"You were born in \" + str(birth_year) + \".\")\n"
   ]
  },
  {
   "cell_type": "markdown",
   "id": "b5c6dc75",
   "metadata": {},
   "source": [
    "we first get the\n",
    "user's age as input (which is initially a string) and then convert it to an integer using int() before performing calculations with it."
   ]
  },
  {
   "cell_type": "markdown",
   "id": "0324695c",
   "metadata": {},
   "source": [
    "## Data Types"
   ]
  },
  {
   "cell_type": "markdown",
   "id": "35fd6645",
   "metadata": {},
   "source": [
    "Data types represent the kind of data a variable or value can hold. Python is a dynamically typed language, which means you don't need to explicitly declare the data type of a variable. Instead, the interpreter determines the data type automatically based on the value assigned to the variable. Here are some common data types in Python:\n",
    "\n",
    "- Numeric Types:\n",
    "\n",
    "int: Integer data type represents whole numbers, e.g., 42, -3, 1000.\n",
    "float: Floating-point data type represents real numbers with decimal points, e.g., 3.14, -0.5, 2.0.\n",
    "\n",
    "- Text Type:\n",
    "\n",
    "str: String data type represents text and is enclosed in single (') or double (\") quotes, e.g., \"Hello, Python!\", '123'.\n",
    "\n",
    "- Boolean Type:\n",
    "\n",
    "bool: Boolean data type represents truth values, either True or False, typically used in conditional statements and logical operations.\n",
    "\n",
    "- Sequence Types:\n",
    "\n",
    "list: List data type represents ordered collections of items. Lists can contain elements of different data types, and they are mutable (can be changed), e.g., [1, 2, 3], [\"apple\", \"banana\", \"cherry\"].\n",
    "tuple: Tuple data type is similar to lists but is immutable (cannot be changed after creation), e.g., (1, 2, 3), (\"apple\", \"banana\", \"cherry\").\n",
    "\n",
    "- Mapping Type:\n",
    "\n",
    "dict: Dictionary data type represents key-value pairs. It is unordered and mutable, e.g., {\"name\": \"Alice\", \"age\": 30}.\n",
    "\n",
    "- Set Types:\n",
    "\n",
    "set: Set data type represents an unordered collection of unique elements, e.g., {1, 2, 3}, {\"apple\", \"banana\", \"cherry\"}.\n",
    "frozenset: Similar to sets, but immutable.\n",
    "\n",
    "- None Type:\n",
    "\n",
    "NoneType: Represents the absence of a value. It is often used to indicate that a variable does not have a meaningful value.\n",
    "\n",
    "- Custom Types:\n",
    "\n",
    "You can also define your custom data types using classes."
   ]
  },
  {
   "cell_type": "code",
   "execution_count": 39,
   "id": "916e487a",
   "metadata": {},
   "outputs": [],
   "source": [
    "# Numeric Types\n",
    "age = 25\n",
    "height = 5.11\n",
    "\n",
    "# Text Type\n",
    "name = \"Alice\"\n",
    "\n",
    "# Boolean Type\n",
    "is_student = True\n",
    "\n",
    "# Lists\n",
    "fruits = [\"apple\", \"banana\", \"cherry\"]\n",
    "numbers = [1, 2, 3]\n",
    "\n",
    "# Tuples\n",
    "coordinates = (10, 20)\n",
    "rgb_color = (255, 0, 0)\n",
    "\n",
    "# Dictionary\n",
    "person = {\"name\": \"Bob\", \"age\": 30}\n",
    "\n",
    "# Sets\n",
    "unique_numbers = {1, 2, 3}\n",
    "unique_colors = {\"red\", \"green\", \"blue\"}\n",
    "\n",
    "# None Type\n",
    "result = None"
   ]
  },
  {
   "cell_type": "code",
   "execution_count": null,
   "id": "3752b637",
   "metadata": {},
   "outputs": [],
   "source": [
    "Example\tData Type\tTry it\n",
    "x = \"Hello World\"\tstr\t\n",
    "x = 20\tint\t\n",
    "x = 20.5\tfloat\t\n",
    "x = 1j\tcomplex\t\n",
    "x = [\"apple\", \"banana\", \"cherry\"]\tlist\t\n",
    "x = (\"apple\", \"banana\", \"cherry\")\ttuple\t\n",
    "x = range(6)\trange\t\n",
    "x = {\"name\" : \"John\", \"age\" : 36}\tdict\t\n",
    "x = {\"apple\", \"banana\", \"cherry\"}\tset\t\n",
    "x = frozenset({\"apple\", \"banana\", \"cherry\"})\tfrozenset\t\n",
    "x = True\tbool\t\n",
    "x = b\"Hello\"\tbytes\t\n",
    "x = bytearray(5)\tbytearray\t\n",
    "x = memoryview(bytes(5))\tmemoryview\t\n",
    "x = None\tNoneType"
   ]
  },
  {
   "cell_type": "code",
   "execution_count": null,
   "id": "c21ca89d",
   "metadata": {},
   "outputs": [],
   "source": [
    "# Setting the Specific Data Type\n",
    "# If you want to specify the data type, you can use the following constructor functions:Example\tData Type\tTry it\n",
    "\n",
    "x = str(\"Hello World\")\tstr\t\n",
    "x = int(20)\tint\t\n",
    "x = float(20.5)\tfloat\t\n",
    "x = complex(1j)\tcomplex\t\n",
    "x = list((\"apple\", \"banana\", \"cherry\"))\tlist\t\n",
    "x = tuple((\"apple\", \"banana\", \"cherry\"))\ttuple\t\n",
    "x = range(6)\trange\t\n",
    "x = dict(name=\"John\", age=36)\tdict\t\n",
    "x = set((\"apple\", \"banana\", \"cherry\"))\tset\t\n",
    "x = frozenset((\"apple\", \"banana\", \"cherry\"))\tfrozenset\t\n",
    "x = bool(5)\tbool\t\n",
    "x = bytes(5)\tbytes\t\n",
    "x = bytearray(5)\tbytearray\t\n",
    "x = memoryview(bytes(5))\tmemoryview"
   ]
  },
  {
   "cell_type": "code",
   "execution_count": 40,
   "id": "1ed833c5",
   "metadata": {},
   "outputs": [
    {
     "name": "stdout",
     "output_type": "stream",
     "text": [
      "Hello World\n",
      "<class 'str'>\n",
      "1j\n",
      "<class 'complex'>\n"
     ]
    }
   ],
   "source": [
    "# Example 1\n",
    "x = str(\"Hello World\")\n",
    "\n",
    "#display x:\n",
    "print(x)\n",
    "\n",
    "#display the data type of x:\n",
    "print(type(x)) \n",
    "\n",
    "# Example 2\n",
    "\n",
    "x = complex(1j)\n",
    "\n",
    "#display x:\n",
    "print(x)\n",
    "\n",
    "#display the data type of x:\n",
    "print(type(x)) "
   ]
  },
  {
   "cell_type": "markdown",
   "id": "77676a40",
   "metadata": {},
   "source": [
    "## Type Conversion"
   ]
  },
  {
   "cell_type": "markdown",
   "id": "82515e1c",
   "metadata": {},
   "source": [
    "Type conversion, also known as data type conversion or casting, is the process of changing the data type of a value or variable from one type to another in a programming language. It allows you to perform operations or assignments involving data of different types.\n",
    "\n",
    "In Python, you can perform type conversion using various built-in functions or constructors for specific data types. Here are some common type conversion methods:\n",
    "\n",
    "\n",
    "1. Implicit Type Conversion (Type Coercion): In some cases, Python automatically converts one data type to another when needed. For example, when you add an integer and a floating-point number, Python will convert the integer to a float for the operation."
   ]
  },
  {
   "cell_type": "code",
   "execution_count": null,
   "id": "9d57637d",
   "metadata": {},
   "outputs": [],
   "source": [
    "x = 5      # integer\n",
    "y = 2.5    # float\n",
    "z = x + y  # Implicit conversion: x is converted to float for the addition"
   ]
  },
  {
   "cell_type": "markdown",
   "id": "64eef420",
   "metadata": {},
   "source": [
    "2. Explicit Type Conversion (Type Casting): You can explicitly convert data types using functions or constructors. Here are some commonly used functions for type conversion in Python:\n",
    "\n",
    "- int(): Converts a value to an integer.\n",
    "- float(): Converts a value to a floating-point number.\n",
    "- str(): Converts a value to a string.\n",
    "- list(): Converts a sequence (e.g., tuple, string) to a list.\n",
    "- tuple(): Converts a sequence (e.g., list, string) to a tuple.\n",
    "- set(): Converts a sequence (e.g., list, string) to a set.\n",
    "- bool(): Converts a value to a Boolean (True or False)."
   ]
  },
  {
   "cell_type": "code",
   "execution_count": 44,
   "id": "08e4d654",
   "metadata": {},
   "outputs": [
    {
     "name": "stdout",
     "output_type": "stream",
     "text": [
      "42.0\n",
      "{1, 2, 3}\n"
     ]
    }
   ],
   "source": [
    "# Expilicity converting data types\n",
    "num_str = \"42\"\n",
    "num = int(num_str)       # convert string to integer\n",
    "num_float = float(num)   # convert interger to float\n",
    "\n",
    "# Converting list to eat\n",
    "my_list = [1, 2, 2, 3]\n",
    "my_set = set(my_list)    # Convert list to set\n",
    "\n",
    "\n",
    "print(num_float)\n",
    "print(my_set)"
   ]
  },
  {
   "cell_type": "markdown",
   "id": "67455b64",
   "metadata": {},
   "source": [
    "3. Type Conversion Functions for Strings: When working with strings, you can use functions like int(), float(), and str() to convert strings to numeric types or vice versa."
   ]
  },
  {
   "cell_type": "code",
   "execution_count": 45,
   "id": "901be005",
   "metadata": {},
   "outputs": [
    {
     "name": "stdout",
     "output_type": "stream",
     "text": [
      "42.0\n",
      "42\n"
     ]
    }
   ],
   "source": [
    "# String to integer and float\n",
    "num_str = \"42\"\n",
    "num_int = int(num_str)       # Convert string to integer\n",
    "num_float = float(num_str)   # Convert string to float\n",
    "\n",
    "# Integer to string\n",
    "num = 42\n",
    "num_str = str(num)  # Convert integer to string\n",
    "\n",
    "\n",
    "print(num_float)\n",
    "print(num_str)"
   ]
  },
  {
   "cell_type": "markdown",
   "id": "46bd2270",
   "metadata": {},
   "source": [
    "4. Type Conversion Errors: Be cautious when performing type conversion, as it may lead to errors if the conversion is not possible. For example, converting a string that doesn't represent a valid number to an integer will raise a ValueError."
   ]
  },
  {
   "cell_type": "code",
   "execution_count": 46,
   "id": "5156f47f",
   "metadata": {},
   "outputs": [
    {
     "ename": "ValueError",
     "evalue": "invalid literal for int() with base 10: 'hello'",
     "output_type": "error",
     "traceback": [
      "\u001b[1;31m---------------------------------------------------------------------------\u001b[0m",
      "\u001b[1;31mValueError\u001b[0m                                Traceback (most recent call last)",
      "\u001b[1;32m~\\AppData\\Local\\Temp\\ipykernel_13972\\4255561252.py\u001b[0m in \u001b[0;36m<module>\u001b[1;34m\u001b[0m\n\u001b[0;32m      1\u001b[0m \u001b[0mnum_str\u001b[0m \u001b[1;33m=\u001b[0m \u001b[1;34m\"hello\"\u001b[0m\u001b[1;33m\u001b[0m\u001b[1;33m\u001b[0m\u001b[0m\n\u001b[1;32m----> 2\u001b[1;33m \u001b[0mnum\u001b[0m \u001b[1;33m=\u001b[0m \u001b[0mint\u001b[0m\u001b[1;33m(\u001b[0m\u001b[0mnum_str\u001b[0m\u001b[1;33m)\u001b[0m  \u001b[1;31m# Raises a ValueError\u001b[0m\u001b[1;33m\u001b[0m\u001b[1;33m\u001b[0m\u001b[0m\n\u001b[0m\u001b[0;32m      3\u001b[0m \u001b[1;33m\u001b[0m\u001b[0m\n\u001b[0;32m      4\u001b[0m \u001b[0mprint\u001b[0m\u001b[1;33m(\u001b[0m\u001b[0mnum\u001b[0m\u001b[1;33m)\u001b[0m\u001b[1;33m\u001b[0m\u001b[1;33m\u001b[0m\u001b[0m\n",
      "\u001b[1;31mValueError\u001b[0m: invalid literal for int() with base 10: 'hello'"
     ]
    }
   ],
   "source": [
    "num_str = \"hello\"\n",
    "num = int(num_str)  # Raises a ValueError\n",
    "\n",
    "print(num)"
   ]
  },
  {
   "cell_type": "markdown",
   "id": "89def50d",
   "metadata": {},
   "source": [
    "Type conversion is a valuable tool in programming as it allows you to work with different data types and integrate them into your programs seamlessly. However, it's essential to handle conversion errors and ensure that conversions make sense in the context of your code to avoid unexpected results or errors."
   ]
  },
  {
   "cell_type": "code",
   "execution_count": 48,
   "id": "934470dc",
   "metadata": {},
   "outputs": [
    {
     "name": "stdout",
     "output_type": "stream",
     "text": [
      "1.0\n",
      "2\n",
      "(1+0j)\n",
      "<class 'float'>\n",
      "<class 'int'>\n",
      "<class 'complex'>\n"
     ]
    }
   ],
   "source": [
    "x = 1 # int\n",
    "y = 2.8 # float\n",
    "z = 1j  # complex\n",
    "\n",
    "#convert from int to float:\n",
    "a = float(x)\n",
    "\n",
    "#convert from float to int:\n",
    "b = int(y)\n",
    "\n",
    "#convert from int to complex:\n",
    "c = complex(x)\n",
    "\n",
    "print(a)\n",
    "print(b)\n",
    "print(c)\n",
    "\n",
    "\n",
    "print(type(a))\n",
    "print(type(b))\n",
    "print(type(c))\n",
    "\n",
    "# Note: You cannot convert complex numbers into another number type."
   ]
  },
  {
   "cell_type": "markdown",
   "id": "3229f96d",
   "metadata": {},
   "source": [
    "## First Program"
   ]
  },
  {
   "cell_type": "code",
   "execution_count": 49,
   "id": "cc007909",
   "metadata": {},
   "outputs": [
    {
     "name": "stdout",
     "output_type": "stream",
     "text": [
      "Hello, World!\n"
     ]
    }
   ],
   "source": [
    "print(\"Hello, World!\")"
   ]
  },
  {
   "cell_type": "code",
   "execution_count": null,
   "id": "c6e609c3",
   "metadata": {},
   "outputs": [],
   "source": []
  }
 ],
 "metadata": {
  "kernelspec": {
   "display_name": "Python 3 (ipykernel)",
   "language": "python",
   "name": "python3"
  },
  "language_info": {
   "codemirror_mode": {
    "name": "ipython",
    "version": 3
   },
   "file_extension": ".py",
   "mimetype": "text/x-python",
   "name": "python",
   "nbconvert_exporter": "python",
   "pygments_lexer": "ipython3",
   "version": "3.9.13"
  }
 },
 "nbformat": 4,
 "nbformat_minor": 5
}
