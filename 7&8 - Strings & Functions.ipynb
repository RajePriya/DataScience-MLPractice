{
 "cells": [
  {
   "cell_type": "markdown",
   "id": "3c64159f",
   "metadata": {},
   "source": [
    "# Strings"
   ]
  },
  {
   "cell_type": "markdown",
   "id": "19dfcf32",
   "metadata": {},
   "source": [
    "- String Basics\n",
    "- String Literals\n",
    "- String Operations\n",
    "- String Comprehensions / Slicing\n",
    "- String Methods"
   ]
  },
  {
   "cell_type": "markdown",
   "id": "af762cc8",
   "metadata": {},
   "source": [
    "## String Basics"
   ]
  },
  {
   "cell_type": "markdown",
   "id": "bbabfc38",
   "metadata": {},
   "source": [
    "- Creating Strings:\n",
    "\n",
    "You can create strings in Python by enclosing text in either single quotes (' ') or double quotes (\" \")."
   ]
  },
  {
   "cell_type": "code",
   "execution_count": null,
   "id": "94fe538d",
   "metadata": {},
   "outputs": [],
   "source": [
    "single_quoted_string = 'This is a single-quoted string.'\n",
    "double_quoted_string = \"This is a double-quoted string.\""
   ]
  },
  {
   "cell_type": "markdown",
   "id": "61b90ff6",
   "metadata": {},
   "source": [
    "Both single and double quotes are acceptable for defining strings, and you can choose whichever suits your needs. If a string contains a quote character, you can use the other type of quote or escape the quote character with a backslash ('')."
   ]
  },
  {
   "cell_type": "code",
   "execution_count": null,
   "id": "4390da1d",
   "metadata": {},
   "outputs": [],
   "source": [
    "single_quoted_with_escape = 'He said, \"Hello!\"'\n",
    "double_quoted_with_escape = \"She said, 'Hi!'\""
   ]
  },
  {
   "cell_type": "markdown",
   "id": "eebff493",
   "metadata": {},
   "source": [
    "#### String Concatenation:\n",
    "You can combine (concatenate) strings using the + operator."
   ]
  },
  {
   "cell_type": "code",
   "execution_count": 1,
   "id": "56aefa29",
   "metadata": {},
   "outputs": [
    {
     "name": "stdout",
     "output_type": "stream",
     "text": [
      "John Doe\n"
     ]
    }
   ],
   "source": [
    "first_name = \"John\"\n",
    "last_name = \"Doe\"\n",
    "full_name = first_name + \" \" + last_name    # \"John Doe\"\n",
    "\n",
    "print(full_name)"
   ]
  },
  {
   "cell_type": "markdown",
   "id": "293d5832",
   "metadata": {},
   "source": [
    "#### String Length:\n",
    "You can find the length (number of characters) of a string using the len() function"
   ]
  },
  {
   "cell_type": "code",
   "execution_count": 3,
   "id": "29047fcc",
   "metadata": {},
   "outputs": [
    {
     "name": "stdout",
     "output_type": "stream",
     "text": [
      "13\n"
     ]
    }
   ],
   "source": [
    "text = \"Hello, World!\"\n",
    "length = len(text)    # 13\n",
    "print(length)"
   ]
  },
  {
   "cell_type": "markdown",
   "id": "03d0fdc1",
   "metadata": {},
   "source": [
    "#### Accessing Characters in a String:\n",
    "You can access individual characters in a string by using indexing. Indexing starts at 0 for the first character."
   ]
  },
  {
   "cell_type": "code",
   "execution_count": 4,
   "id": "29458cb9",
   "metadata": {},
   "outputs": [
    {
     "name": "stdout",
     "output_type": "stream",
     "text": [
      "P\n",
      "y\n"
     ]
    }
   ],
   "source": [
    "text = \"Python\"\n",
    "first_char = text[0]    # \"P\"\n",
    "second_char = text[1]    # \"y\"\n",
    "\n",
    "print(first_char)\n",
    "print(second_char)"
   ]
  },
  {
   "cell_type": "markdown",
   "id": "aa6675a7",
   "metadata": {},
   "source": [
    "#### Negative Indexing:\n",
    "You can also use negative indices to access characters from the end of the string."
   ]
  },
  {
   "cell_type": "code",
   "execution_count": 5,
   "id": "e8d22fba",
   "metadata": {},
   "outputs": [
    {
     "name": "stdout",
     "output_type": "stream",
     "text": [
      "n\n",
      "o\n"
     ]
    }
   ],
   "source": [
    "text = \"Python\"\n",
    "last_char = text[-1]    # \"n\"\n",
    "second_to_last_char = text[-2]    # \"o\"\n",
    "\n",
    "print(last_char)\n",
    "print(second_to_last_char)"
   ]
  },
  {
   "cell_type": "markdown",
   "id": "b4cb96b7",
   "metadata": {},
   "source": [
    "#### String Slicing:\n",
    "Slicing allows you to extract a portion (substring) of a string by specifying a range of indices."
   ]
  },
  {
   "cell_type": "code",
   "execution_count": 6,
   "id": "e754d0cf",
   "metadata": {},
   "outputs": [
    {
     "name": "stdout",
     "output_type": "stream",
     "text": [
      "World\n"
     ]
    }
   ],
   "source": [
    "text = \"Hello, World!\"\n",
    "substring = text[7:12]   # \"World\"\n",
    "\n",
    "print(substring)"
   ]
  },
  {
   "cell_type": "markdown",
   "id": "bb40bab2",
   "metadata": {},
   "source": [
    "## String Literals"
   ]
  },
  {
   "cell_type": "markdown",
   "id": "d5c46a4c",
   "metadata": {},
   "source": [
    "String literals are sequences of characters enclosed within single quotes (') or double quotes (\"), and they represent textual data in Python. String literals are used to store and manipulate text, and they can contain letters, numbers, symbols, and whitespace."
   ]
  },
  {
   "cell_type": "code",
   "execution_count": null,
   "id": "faa502a0",
   "metadata": {},
   "outputs": [],
   "source": [
    "single_quoted_string = 'This is a single-quoted string.'\n",
    "double_quoted_string = \"This is a double-quoted string.\""
   ]
  },
  {
   "cell_type": "markdown",
   "id": "0d9743b8",
   "metadata": {},
   "source": [
    "Both single-quoted and double-quoted strings are equivalent in Python, and you can choose the one that suits your preference or the requirements of your coding style. Here are a few key points about string literals:\n",
    "\n",
    "1. Escaping Characters: If you need to include a quote character within a string of the same type (single or double), you can either use the other type of quote to enclose the string or escape the quote character with a backslash (\\)."
   ]
  },
  {
   "cell_type": "code",
   "execution_count": null,
   "id": "079a924f",
   "metadata": {},
   "outputs": [],
   "source": [
    "single_quoted_with_escape = 'He said, \"Hello!\"'\n",
    "double_quoted_with_escape = \"She said, 'Hi!'\""
   ]
  },
  {
   "cell_type": "markdown",
   "id": "a3d9bdfc",
   "metadata": {},
   "source": [
    "2. Multiline Strings: For multiline strings, you can use triple quotes (''' or \"\"\") to enclose the text. This allows you to include line breaks without the need for escape characters."
   ]
  },
  {
   "cell_type": "code",
   "execution_count": null,
   "id": "7b9aceb3",
   "metadata": {},
   "outputs": [],
   "source": [
    "multiline_string = '''This is a\n",
    "multiline\n",
    "string.'''"
   ]
  },
  {
   "cell_type": "markdown",
   "id": "8c9cffdd",
   "metadata": {},
   "source": [
    "3. Raw Strings: You can create \"raw strings\" by prefixing a string literal with the letter 'r' or 'R'. In a raw string, backslashes are treated as literal characters and not as escape characters."
   ]
  },
  {
   "cell_type": "code",
   "execution_count": null,
   "id": "c67c93b9",
   "metadata": {},
   "outputs": [],
   "source": [
    "raw_string = r'This is a raw string\\n'  # Contains backslash as is"
   ]
  },
  {
   "cell_type": "markdown",
   "id": "d0ce38be",
   "metadata": {},
   "source": [
    "String literals are fundamental in Python, as they are used to work with text data, manipulate strings, and interact with text-based inputs and outputs. They are versatile and widely employed in various programming tasks."
   ]
  },
  {
   "cell_type": "markdown",
   "id": "f1bb9186",
   "metadata": {},
   "source": [
    "## String Operations"
   ]
  },
  {
   "cell_type": "markdown",
   "id": "e4487728",
   "metadata": {},
   "source": [
    "Strings in Python support a wide range of operations and methods for manipulating and working with text data. Here are some of the most common string operations:"
   ]
  },
  {
   "cell_type": "code",
   "execution_count": 7,
   "id": "f21976cd",
   "metadata": {},
   "outputs": [
    {
     "name": "stdout",
     "output_type": "stream",
     "text": [
      "John Doe\n"
     ]
    }
   ],
   "source": [
    "# 1. Concatenation (+): You can combine (concatenate) two or more strings using the + operator.\n",
    "first_name = \"John\"\n",
    "last_name = \"Doe\"\n",
    "full_name = first_name + \" \" + last_name\n",
    "\n",
    "print(full_name)"
   ]
  },
  {
   "cell_type": "code",
   "execution_count": 8,
   "id": "32cf8fc0",
   "metadata": {},
   "outputs": [
    {
     "name": "stdout",
     "output_type": "stream",
     "text": [
      "Hello, Hello, Hello, \n"
     ]
    }
   ],
   "source": [
    "# 2. Repetition (*): You can repeat a string by multiplying it with an integer.\n",
    "message = \"Hello, \"\n",
    "repeated_message = message * 3\n",
    "print(repeated_message)"
   ]
  },
  {
   "cell_type": "code",
   "execution_count": 9,
   "id": "8bab44b0",
   "metadata": {},
   "outputs": [
    {
     "name": "stdout",
     "output_type": "stream",
     "text": [
      "6\n"
     ]
    }
   ],
   "source": [
    "# 3. String Length (len()): You can find the length (number of characters) of a string using the len() function.\n",
    "text = \"Python\"\n",
    "length = len(text)\n",
    "print(length)"
   ]
  },
  {
   "cell_type": "code",
   "execution_count": 13,
   "id": "0ea4c51b",
   "metadata": {},
   "outputs": [
    {
     "name": "stdout",
     "output_type": "stream",
     "text": [
      "World\n"
     ]
    }
   ],
   "source": [
    "# 4. String Slicing: You can extract substrings from a string using slicing, which specifies a range of indices.\n",
    "text = \"Hello, World!\"\n",
    "substring = text[7:12]\n",
    "print(substring)"
   ]
  },
  {
   "cell_type": "markdown",
   "id": "8b1644ea",
   "metadata": {},
   "source": [
    "5. String Methods: Python provides a variety of built-in string methods for various operations, including case conversion, searching, and manipulation. Some common methods include:\n",
    "\n",
    "- upper(): Converts a string to uppercase.\n",
    "- lower(): Converts a string to lowercase.\n",
    "- strip(): Removes leading and trailing whitespace.\n",
    "- split(): Splits a string into a list of substrings based on a delimiter.\n",
    "- join(): Joins a list of strings into a single string using a specified delimiter.\n",
    "- replace(): Replaces occurrences of a substring with another substring.\n",
    "- find(): Searches for a substring and returns its index."
   ]
  },
  {
   "cell_type": "code",
   "execution_count": null,
   "id": "5780a3a7",
   "metadata": {},
   "outputs": [],
   "source": [
    "text = \"Hello, World!\"\n",
    "uppercase_text = text.upper()\n",
    "lowercase_text = text.lower()\n",
    "stripped_text = text.strip()\n",
    "words = text.split(\",\")  # ['Hello', ' World!']\n",
    "new_text = \"-\".join(words)  # \"Hello- World!\"\n",
    "replaced_text = text.replace(\"Hello\", \"Hi\")\n",
    "index = text.find(\"World\")  # 7"
   ]
  },
  {
   "cell_type": "code",
   "execution_count": 15,
   "id": "755c375b",
   "metadata": {},
   "outputs": [
    {
     "name": "stdout",
     "output_type": "stream",
     "text": [
      "True\n"
     ]
    }
   ],
   "source": [
    "# 6. Checking Substrings (in and not in): You can check if a substring exists within a string using the in and not in operators.\n",
    "text = \"Hello, World!\"\n",
    "contains_hello = \"Hello\" in text  # True\n",
    "does_not_contain_apple = \"apple\" not in text  # True\n",
    "print(does_not_contain_apple)"
   ]
  },
  {
   "cell_type": "code",
   "execution_count": 16,
   "id": "e3134745",
   "metadata": {},
   "outputs": [
    {
     "name": "stdout",
     "output_type": "stream",
     "text": [
      "My name is Alice and I am 30 years old.\n"
     ]
    }
   ],
   "source": [
    "# 7. Formatting Strings: You can format strings using f-strings (formatted string literals) or the str.format() method to insert variables or values into a string.\n",
    "name = \"Alice\"\n",
    "age = 30\n",
    "message = f\"My name is {name} and I am {age} years old.\"\n",
    "print(message)"
   ]
  },
  {
   "cell_type": "markdown",
   "id": "530c817a",
   "metadata": {},
   "source": [
    "These string operations and methods make it easy to manipulate and process text data in Python, and they are essential for tasks like text parsing, data cleaning, and generating formatted output."
   ]
  },
  {
   "cell_type": "markdown",
   "id": "0f261d9c",
   "metadata": {},
   "source": [
    "## String Comprehensions / Slicing"
   ]
  },
  {
   "cell_type": "markdown",
   "id": "b3f744d9",
   "metadata": {},
   "source": [
    "String comprehensions, similar to list comprehensions, are not directly supported in Python. List comprehensions are used to create lists by applying an expression to each item in an iterable. However, strings in Python are immutable, which means you cannot change individual characters in a string directly, so there is no direct equivalent of list comprehensions for strings.\n",
    "\n",
    "However, you can achieve similar results using loops and other Python constructs. For example, if you want to create a new string by applying a transformation to each character in an existing string, you can use a for loop:"
   ]
  },
  {
   "cell_type": "code",
   "execution_count": 19,
   "id": "a838aec2",
   "metadata": {},
   "outputs": [
    {
     "name": "stdout",
     "output_type": "stream",
     "text": [
      "H\n",
      "HE\n",
      "HEL\n",
      "HELL\n",
      "HELLO\n"
     ]
    }
   ],
   "source": [
    "original_string = \"hello\"\n",
    "new_string = \"\"\n",
    "for char in original_string:\n",
    "    new_string += char.upper()  # Convert each character to uppercase\n",
    "    print(new_string)"
   ]
  },
  {
   "cell_type": "code",
   "execution_count": 20,
   "id": "e24fadb7",
   "metadata": {},
   "outputs": [
    {
     "name": "stdout",
     "output_type": "stream",
     "text": [
      "HELLO\n"
     ]
    }
   ],
   "source": [
    "# Alternatively, you can use a generator expression to create a new string. Although it doesn't look exactly like a string comprehension, it can achieve similar results:\n",
    "original_string = \"hello\"\n",
    "new_string = \"\".join(char.upper() for char in original_string)\n",
    "print(new_string)"
   ]
  },
  {
   "cell_type": "markdown",
   "id": "e595d03b",
   "metadata": {},
   "source": [
    "In this example, we use a generator expression inside the join() method to convert each character in original_string to uppercase and join them into a new string.\n",
    "\n",
    "As for slicing, you can use slicing on strings to extract substrings just like you would with lists. Here's an example:"
   ]
  },
  {
   "cell_type": "code",
   "execution_count": 21,
   "id": "a9aef53a",
   "metadata": {},
   "outputs": [
    {
     "name": "stdout",
     "output_type": "stream",
     "text": [
      "World\n"
     ]
    }
   ],
   "source": [
    "text = \"Hello, World!\"\n",
    "substring = text[7:12]  # \"World\"\n",
    "print(substring)"
   ]
  },
  {
   "cell_type": "markdown",
   "id": "efd92de8",
   "metadata": {},
   "source": [
    "In this case, text[7:12] extracts a substring that starts at index 7 (inclusive) and ends at index 12 (exclusive).\n",
    "\n",
    "Keep in mind that strings are immutable, so slicing creates new strings rather than modifying the original string. This means that when you perform slicing or transformations on strings, you get new strings as the result, leaving the original string unchanged."
   ]
  },
  {
   "cell_type": "markdown",
   "id": "3731d7a4",
   "metadata": {},
   "source": [
    "#### Slicing\n",
    "You can return a range of characters by using the slice syntax.\n",
    "\n",
    "Specify the start index and the end index, separated by a colon, to return a part of the string."
   ]
  },
  {
   "cell_type": "code",
   "execution_count": 22,
   "id": "e58394c3",
   "metadata": {},
   "outputs": [
    {
     "name": "stdout",
     "output_type": "stream",
     "text": [
      "llo\n"
     ]
    }
   ],
   "source": [
    "# Get the characters from position 2 to position 5 (not included):\n",
    "b = \"Hello, World!\"\n",
    "print(b[2:5])"
   ]
  },
  {
   "cell_type": "code",
   "execution_count": null,
   "id": "7a6b0d51",
   "metadata": {},
   "outputs": [],
   "source": [
    "# Note: The first character has index 0.\n",
    "\n",
    "### Slice From the Start\n",
    "By leaving out the start index, the range will start at the first character:"
   ]
  },
  {
   "cell_type": "code",
   "execution_count": 23,
   "id": "7c40247d",
   "metadata": {},
   "outputs": [
    {
     "name": "stdout",
     "output_type": "stream",
     "text": [
      "Hello\n"
     ]
    }
   ],
   "source": [
    "b = \"Hello, World!\"\n",
    "print(b[:5])"
   ]
  },
  {
   "cell_type": "code",
   "execution_count": null,
   "id": "244f4dba",
   "metadata": {},
   "outputs": [],
   "source": [
    "# Slice To the End\n",
    "By leaving out the end index, the range will go to the end:\n",
    "\n",
    "Example\n",
    "Get the characters from position 2, and all the way to the end:"
   ]
  },
  {
   "cell_type": "code",
   "execution_count": 24,
   "id": "99ba9612",
   "metadata": {},
   "outputs": [
    {
     "name": "stdout",
     "output_type": "stream",
     "text": [
      "llo, World!\n"
     ]
    }
   ],
   "source": [
    "b = \"Hello, World!\"\n",
    "print(b[2:])"
   ]
  },
  {
   "cell_type": "markdown",
   "id": "4b7b4e60",
   "metadata": {},
   "source": [
    "### Negative Indexing\n",
    "Use negative indexes to start the slice from the end of the string:\n",
    "Example\n",
    "Get the characters:\n",
    "\n",
    "From: \"o\" in \"World!\" (position -5)\n",
    "\n",
    "To, but not included: \"d\" in \"World!\" (position -2):"
   ]
  },
  {
   "cell_type": "code",
   "execution_count": 25,
   "id": "fe8b4a16",
   "metadata": {},
   "outputs": [
    {
     "name": "stdout",
     "output_type": "stream",
     "text": [
      "orl\n"
     ]
    }
   ],
   "source": [
    "b = \"Hello, World!\"\n",
    "print(b[-5:-2])"
   ]
  },
  {
   "cell_type": "markdown",
   "id": "f3610c61",
   "metadata": {},
   "source": [
    "## String Methods"
   ]
  },
  {
   "cell_type": "markdown",
   "id": "a04448b5",
   "metadata": {},
   "source": [
    "Strings in Python come with a variety of built-in methods that allow you to perform various operations on strings. Here are some of the most commonly used string methods:\n",
    "\n",
    "#### capitalize() Method\n",
    "###### Definition and Usage\n",
    "The capitalize() method returns a string where the first character is upper case, and the rest is lower cas\n",
    "Upper case the first letter in this sentence:"
   ]
  },
  {
   "cell_type": "code",
   "execution_count": 26,
   "id": "7f056bd7",
   "metadata": {},
   "outputs": [
    {
     "name": "stdout",
     "output_type": "stream",
     "text": [
      "Hello, and welcome to my world.\n"
     ]
    }
   ],
   "source": [
    "txt = \"hello, and welcome to my world.\"\n",
    "x = txt.capitalize()\n",
    "print(x)"
   ]
  },
  {
   "cell_type": "code",
   "execution_count": 27,
   "id": "0c379de8",
   "metadata": {},
   "outputs": [
    {
     "name": "stdout",
     "output_type": "stream",
     "text": [
      "Python is fun!\n"
     ]
    }
   ],
   "source": [
    "# The first character is converted to upper case, and the rest are converted to lower case:\n",
    "txt = \"python is FUN!\"\n",
    "x = txt.capitalize()\n",
    "print(x)"
   ]
  },
  {
   "cell_type": "code",
   "execution_count": 28,
   "id": "5dbbd689",
   "metadata": {},
   "outputs": [
    {
     "name": "stdout",
     "output_type": "stream",
     "text": [
      "36 is my age.\n"
     ]
    }
   ],
   "source": [
    "# See what happens if the first character is a number:\n",
    "txt = \"36 is my age.\"\n",
    "x = txt.capitalize()\n",
    "print(x)"
   ]
  },
  {
   "cell_type": "markdown",
   "id": "ae1ffe41",
   "metadata": {},
   "source": [
    "### casefold() Method\n",
    "#### Definition and Usage\n",
    "The casefold() method returns a string where all the characters are lower case.\n",
    "\n",
    "This method is similar to the lower() method, but the casefold() method is stronger, more aggressive, meaning that it will convert more characters into lower case, and will find more matches when comparing two strings and both are converted using the casefold() method."
   ]
  },
  {
   "cell_type": "code",
   "execution_count": 30,
   "id": "7807e9db",
   "metadata": {},
   "outputs": [
    {
     "name": "stdout",
     "output_type": "stream",
     "text": [
      "hello, and welcome to my world!\n"
     ]
    }
   ],
   "source": [
    "# Make the string lower case:\n",
    "txt = \"Hello, And Welcome To My World!\"\n",
    "x = txt.casefold()\n",
    "print(x)"
   ]
  },
  {
   "cell_type": "markdown",
   "id": "0278a78c",
   "metadata": {},
   "source": [
    "### Center() Method\n",
    "#### Definition and Usage\n",
    "The center() method will center align the string, using a specified character (space is default) as the fill character."
   ]
  },
  {
   "cell_type": "code",
   "execution_count": 32,
   "id": "e9c539f3",
   "metadata": {},
   "outputs": [
    {
     "name": "stdout",
     "output_type": "stream",
     "text": [
      "       banana       \n"
     ]
    }
   ],
   "source": [
    "# Print the word \"banana\", taking up the space of 20 characters, with \"banana\" in the middle:\n",
    "txt = \"banana\"\n",
    "x = txt.center(20)\n",
    "print(x)"
   ]
  },
  {
   "cell_type": "markdown",
   "id": "d6063aa6",
   "metadata": {},
   "source": [
    "            Parameter Values\n",
    "  PARAMETER                            DESCRIPTION\n",
    "   length\t               Required. The length of the returned string\n",
    "  character\t               Optional. The character to fill the missing space on each side. Default is                            \" \"(space)"
   ]
  },
  {
   "cell_type": "code",
   "execution_count": 33,
   "id": "d5b10c0d",
   "metadata": {},
   "outputs": [
    {
     "name": "stdout",
     "output_type": "stream",
     "text": [
      "0000000banana0000000\n"
     ]
    }
   ],
   "source": [
    "# Using the letter \"O\" as the padding character:\n",
    "txt = \"banana\"\n",
    "x = txt.center(20, \"0\")\n",
    "print(x)"
   ]
  },
  {
   "cell_type": "markdown",
   "id": "2b159afd",
   "metadata": {},
   "source": [
    "### count() Method\n",
    "#### Definition and Usage\n",
    "The count() method returns the number of times a specified value appears in the string."
   ]
  },
  {
   "cell_type": "code",
   "execution_count": 36,
   "id": "981c6e08",
   "metadata": {},
   "outputs": [
    {
     "name": "stdout",
     "output_type": "stream",
     "text": [
      "2\n"
     ]
    }
   ],
   "source": [
    "# Return the number of times the value \"apple\" appears in the string:\n",
    "txt = \"I love apples, apple are my favorite fruit\"\n",
    "\n",
    "x = txt.count(\"apple\")\n",
    "\n",
    "print(x)"
   ]
  },
  {
   "cell_type": "markdown",
   "id": "d35d2d45",
   "metadata": {},
   "source": [
    "                   Parameter Values\n",
    "   PARAMETER                          \tDESCRIPTION\n",
    "    value\t           Required. A String. The string to value to search for.\n",
    "    start           \tOptional. An Integer. The position to start the search. Default is 0.\n",
    "    end\t                 Optional. An Integer. The position to end the search. Default is the end of                              the string.\n"
   ]
  },
  {
   "cell_type": "code",
   "execution_count": 37,
   "id": "eda13f9b",
   "metadata": {},
   "outputs": [
    {
     "name": "stdout",
     "output_type": "stream",
     "text": [
      "1\n"
     ]
    }
   ],
   "source": [
    "txt = \"I love Apple, apple are my favourite fruit\"\n",
    "\n",
    "x = txt.count(\"apple\", 10, 24)\n",
    "print(x)"
   ]
  },
  {
   "cell_type": "markdown",
   "id": "b3498e71",
   "metadata": {},
   "source": [
    "### Encode() Method\n",
    "#### Definition and Usage\n",
    "The encode() method encodes the string, using the specified encoding. If no encoding is specified, UTF-8 will be used."
   ]
  },
  {
   "cell_type": "code",
   "execution_count": 39,
   "id": "3e7e0b01",
   "metadata": {},
   "outputs": [
    {
     "name": "stdout",
     "output_type": "stream",
     "text": [
      "b'My name is St\\xc3\\xa5le'\n"
     ]
    }
   ],
   "source": [
    "txt = \"My name is Ståle\"\n",
    "x = txt.encode()\n",
    "print(x)"
   ]
  },
  {
   "cell_type": "code",
   "execution_count": null,
   "id": "36ad7e18",
   "metadata": {},
   "outputs": [],
   "source": [
    "                            Parameter Values\n",
    "Parameter\tDescription\n",
    "encoding\tOptional. A String specifying the encoding to use. Default is UTF-8\n",
    "errors\tOptional. A String specifying the error method. Legal values are:\n",
    "'backslashreplace'\t- uses a backslash instead of the character that could not be encoded\n",
    "'ignore'\t- ignores the characters that cannot be encoded\n",
    "'namereplace'\t- replaces the character with a text explaining the character\n",
    "'strict'\t- Default, raises an error on failure\n",
    "'replace'\t- replaces the character with a questionmark\n",
    "'xmlcharrefreplace'\t- replaces the character with an xml character"
   ]
  },
  {
   "cell_type": "code",
   "execution_count": 40,
   "id": "f610ec8c",
   "metadata": {},
   "outputs": [
    {
     "name": "stdout",
     "output_type": "stream",
     "text": [
      "b'My name is St\\\\xe5le'\n",
      "b'My name is Stle'\n",
      "b'My name is St\\\\N{LATIN SMALL LETTER A WITH RING ABOVE}le'\n",
      "b'My name is St?le'\n",
      "b'My name is St&#229;le'\n"
     ]
    }
   ],
   "source": [
    "# These examples uses ascii encoding, and a character that cannot be encoded, showing the result with different errors:\n",
    "txt = \"My name is Ståle\"\n",
    "print(txt.encode(encoding=\"ascii\",errors=\"backslashreplace\"))\n",
    "print(txt.encode(encoding=\"ascii\",errors=\"ignore\"))\n",
    "print(txt.encode(encoding=\"ascii\",errors=\"namereplace\"))\n",
    "print(txt.encode(encoding=\"ascii\",errors=\"replace\"))\n",
    "print(txt.encode(encoding=\"ascii\",errors=\"xmlcharrefreplace\"))"
   ]
  },
  {
   "cell_type": "markdown",
   "id": "05f23799",
   "metadata": {},
   "source": [
    "### Endswith() Method:\n",
    "#### Definition and Usage\n",
    "The endswith() method returns True if the string ends with the specified value, otherwise False."
   ]
  },
  {
   "cell_type": "code",
   "execution_count": 43,
   "id": "ae9b3f5c",
   "metadata": {},
   "outputs": [
    {
     "name": "stdout",
     "output_type": "stream",
     "text": [
      "True\n"
     ]
    }
   ],
   "source": [
    "txt = \"Hello, welcome to my world.\"\n",
    "x = txt.endswith(\".\")\n",
    "print(x)"
   ]
  },
  {
   "cell_type": "code",
   "execution_count": null,
   "id": "a4a236c9",
   "metadata": {},
   "outputs": [],
   "source": [
    "    Parameter Values\n",
    "Parameter\tDescription\n",
    "value\tRequired. The value to check if the string ends with\n",
    "start\tOptional. An Integer specifying at which position to start the search\n",
    "end\tOptional. An Integer specifying at which position to end the search\n"
   ]
  },
  {
   "cell_type": "code",
   "execution_count": 44,
   "id": "53993865",
   "metadata": {},
   "outputs": [
    {
     "name": "stdout",
     "output_type": "stream",
     "text": [
      "True\n"
     ]
    }
   ],
   "source": [
    "# Check if the string ends with the phrase \"my world.\":\n",
    "txt = \"Hello, welcome to my world.\"\n",
    "x = txt.endswith(\"my world.\")\n",
    "print(x)"
   ]
  },
  {
   "cell_type": "code",
   "execution_count": 45,
   "id": "62497dac",
   "metadata": {},
   "outputs": [
    {
     "name": "stdout",
     "output_type": "stream",
     "text": [
      "False\n"
     ]
    }
   ],
   "source": [
    "# Check if position 5 to 11 ends with the phrase \"my world.\":\n",
    "txt = \"Hello, welcome to my world.\"\n",
    "x = txt.endswith(\"my world.\", 5, 11)\n",
    "print(x)"
   ]
  },
  {
   "cell_type": "markdown",
   "id": "34047de7",
   "metadata": {},
   "source": [
    "### Expandtabs() Method\n",
    "#### Definition and Usage\n",
    "The expandtabs() method sets the tab size to the specified number of whitespaces."
   ]
  },
  {
   "cell_type": "code",
   "execution_count": 46,
   "id": "77d82a69",
   "metadata": {},
   "outputs": [
    {
     "name": "stdout",
     "output_type": "stream",
     "text": [
      "H e l l o\n"
     ]
    }
   ],
   "source": [
    "txt = \"H\\te\\tl\\tl\\to\"\n",
    "\n",
    "x =  txt.expandtabs(2)\n",
    "\n",
    "print(x)"
   ]
  },
  {
   "cell_type": "code",
   "execution_count": null,
   "id": "d2db7290",
   "metadata": {},
   "outputs": [],
   "source": [
    "Parameter Values\n",
    "Parameter\tDescription\n",
    "tabsize\tOptional. A number specifying the tabsize. Default tabsize is 8"
   ]
  },
  {
   "cell_type": "code",
   "execution_count": 47,
   "id": "dc29ed9a",
   "metadata": {},
   "outputs": [
    {
     "name": "stdout",
     "output_type": "stream",
     "text": [
      "H\te\tl\tl\to\n",
      "H       e       l       l       o\n",
      "H e l l o\n",
      "H   e   l   l   o\n",
      "H         e         l         l         o\n"
     ]
    }
   ],
   "source": [
    "# See the result using different tab sizes:\n",
    "\n",
    "txt = \"H\\te\\tl\\tl\\to\"\n",
    "\n",
    "print(txt)\n",
    "print(txt.expandtabs())\n",
    "print(txt.expandtabs(2))\n",
    "print(txt.expandtabs(4))\n",
    "print(txt.expandtabs(10))"
   ]
  },
  {
   "cell_type": "markdown",
   "id": "75323b4a",
   "metadata": {},
   "source": [
    "### find() Method\n",
    "#### Definition and Usage\n",
    "- The find() method finds the first occurrence of the specified value.\n",
    "\n",
    "- The find() method returns -1 if the value is not found.\n",
    "\n",
    "- The find() method is almost the same as the index() method, the only difference is that the index() method raises an exception if the value is not found. (See example below)"
   ]
  },
  {
   "cell_type": "code",
   "execution_count": 48,
   "id": "70c32442",
   "metadata": {},
   "outputs": [
    {
     "name": "stdout",
     "output_type": "stream",
     "text": [
      "7\n"
     ]
    }
   ],
   "source": [
    "txt = \"Hello, welcome to my world.\"\n",
    "\n",
    "x = txt.find(\"welcome\")\n",
    "\n",
    "print(x)"
   ]
  },
  {
   "cell_type": "code",
   "execution_count": null,
   "id": "5a8b4a52",
   "metadata": {},
   "outputs": [],
   "source": [
    "Parameter Values\n",
    "Parameter\tDescription\n",
    "value\tRequired. The value to search for\n",
    "start\tOptional. Where to start the search. Default is 0\n",
    "end\tOptional. Where to end the search. Default is to the end of the string"
   ]
  },
  {
   "cell_type": "code",
   "execution_count": 49,
   "id": "c75f33c5",
   "metadata": {},
   "outputs": [
    {
     "name": "stdout",
     "output_type": "stream",
     "text": [
      "1\n"
     ]
    }
   ],
   "source": [
    "# Where in the text is the first occurrence of the letter \"e\"?:\n",
    "\n",
    "txt = \"Hello, welcome to my world.\"\n",
    "\n",
    "x = txt.find(\"e\")\n",
    "\n",
    "print(x)"
   ]
  },
  {
   "cell_type": "code",
   "execution_count": 50,
   "id": "e5483671",
   "metadata": {},
   "outputs": [
    {
     "name": "stdout",
     "output_type": "stream",
     "text": [
      "8\n"
     ]
    }
   ],
   "source": [
    "# Where in the text is the first occurrence of the letter \"e\" when you only search between position 5 and 10?:\n",
    "\n",
    "txt = \"Hello, welcome to my world.\"\n",
    "\n",
    "x = txt.find(\"e\", 5, 10)\n",
    "\n",
    "print(x)"
   ]
  },
  {
   "cell_type": "code",
   "execution_count": 52,
   "id": "97e611d6",
   "metadata": {},
   "outputs": [
    {
     "name": "stdout",
     "output_type": "stream",
     "text": [
      "-1\n"
     ]
    },
    {
     "ename": "ValueError",
     "evalue": "substring not found",
     "output_type": "error",
     "traceback": [
      "\u001b[1;31m---------------------------------------------------------------------------\u001b[0m",
      "\u001b[1;31mValueError\u001b[0m                                Traceback (most recent call last)",
      "\u001b[1;32m~\\AppData\\Local\\Temp\\ipykernel_14860\\670852428.py\u001b[0m in \u001b[0;36m<module>\u001b[1;34m\u001b[0m\n\u001b[0;32m      4\u001b[0m \u001b[1;33m\u001b[0m\u001b[0m\n\u001b[0;32m      5\u001b[0m \u001b[0mprint\u001b[0m\u001b[1;33m(\u001b[0m\u001b[0mtxt\u001b[0m\u001b[1;33m.\u001b[0m\u001b[0mfind\u001b[0m\u001b[1;33m(\u001b[0m\u001b[1;34m\"q\"\u001b[0m\u001b[1;33m)\u001b[0m\u001b[1;33m)\u001b[0m\u001b[1;33m\u001b[0m\u001b[1;33m\u001b[0m\u001b[0m\n\u001b[1;32m----> 6\u001b[1;33m \u001b[0mprint\u001b[0m\u001b[1;33m(\u001b[0m\u001b[0mtxt\u001b[0m\u001b[1;33m.\u001b[0m\u001b[0mindex\u001b[0m\u001b[1;33m(\u001b[0m\u001b[1;34m\"q\"\u001b[0m\u001b[1;33m)\u001b[0m\u001b[1;33m)\u001b[0m\u001b[1;33m\u001b[0m\u001b[1;33m\u001b[0m\u001b[0m\n\u001b[0m",
      "\u001b[1;31mValueError\u001b[0m: substring not found"
     ]
    }
   ],
   "source": [
    "# If the value is not found, the find() method returns -1, but the index() method will raise an exception:\n",
    "\n",
    "txt = \"Hello, welcome to my world.\"\n",
    "\n",
    "print(txt.find(\"q\"))\n",
    "print(txt.index(\"q\"))"
   ]
  },
  {
   "cell_type": "markdown",
   "id": "c6b1c31e",
   "metadata": {},
   "source": [
    "### Format() Method\n",
    "### Definition and Usage\n",
    "- The format() method formats the specified value(s) and insert them inside the string's placeholder.\n",
    "\n",
    "- The placeholder is defined using curly brackets: {}. Read more about the placeholders in the Placeholder section below.\n",
    "\n",
    "- The format() method returns the formatted string."
   ]
  },
  {
   "cell_type": "code",
   "execution_count": 54,
   "id": "2efd3a49",
   "metadata": {},
   "outputs": [
    {
     "name": "stdout",
     "output_type": "stream",
     "text": [
      "For only 49.00 dollars!\n"
     ]
    }
   ],
   "source": [
    "# Insert the price inside the placeholder, the price should be in fixed point, two-decimal format:\n",
    "txt = \"For only {price:.2f} dollars!\"\n",
    "print(txt.format(price=49))"
   ]
  },
  {
   "cell_type": "code",
   "execution_count": null,
   "id": "d7508091",
   "metadata": {},
   "outputs": [],
   "source": [
    "Parameter Values\n",
    "Parameter\tDescription\n",
    "value1, value2...\tRequired. One or more values that should be formatted and inserted in the string.\n",
    "\n",
    "The values are either a list of values separated by commas, a key=value list, or a combination of both.\n",
    "\n",
    "The values can be of any data type."
   ]
  },
  {
   "cell_type": "markdown",
   "id": "9a109e9d",
   "metadata": {},
   "source": [
    "### The Placeholders\n",
    "The placeholders can be identified using named indexes {price}, numbered indexes {0}, or even empty placeholders {}."
   ]
  },
  {
   "cell_type": "code",
   "execution_count": 56,
   "id": "6363537d",
   "metadata": {},
   "outputs": [
    {
     "name": "stdout",
     "output_type": "stream",
     "text": [
      "My name is Raje, I'm 21\n",
      "My name is Raje, I'm21\n",
      "My name is Raje, I'm 21\n"
     ]
    }
   ],
   "source": [
    "# Using different placeholder values:txt1 = \"My name is {fname}, I'm {age}\".format(fname = \"Raje\", age = 21)\n",
    "txt2 = \"My name is {0}, I'm{1}\".format(\"Raje\", 21)\n",
    "txt3 = \"My name is {}, I'm {}\".format(\"Raje\", 21)\n",
    "print(txt1)\n",
    "print(txt2)\n",
    "print(txt3)"
   ]
  },
  {
   "cell_type": "markdown",
   "id": "13359a03",
   "metadata": {},
   "source": [
    "#### Formatting Types\n",
    "Inside the placeholders you can add a formatting type to format the result:\n",
    "\n",
    ":<\t\tLeft aligns the result (within the available space)\n",
    ":>\t\tRight aligns the result (within the available space)\n",
    ":^\t\tCenter aligns the result (within the available space)\n",
    ":=\t\tPlaces the sign to the left most position\n",
    ":+\t\tUse a plus sign to indicate if the result is positive or negative\n",
    ":-\t\tUse a minus sign for negative values only\n",
    ": \t\tUse a space to insert an extra space before positive numbers (and a minus sign before negative         numbers)\n",
    ":,\t\tUse a comma as a thousand separator\n",
    ":_\t\tUse a underscore as a thousand separator\n",
    ":b\t\tBinary format\n",
    ":c\t\tConverts the value into the corresponding unicode character\n",
    ":d\t\tDecimal format\n",
    ":e\t\tScientific format, with a lower case e\n",
    ":E\t\tScientific format, with an upper case E\n",
    ":f\t\tFix point number format\n",
    ":F\t\tFix point number format, in uppercase format (show inf and nan as INF and NAN)\n",
    ":g\t\tGeneral format\n",
    ":G\t\tGeneral format (using a upper case E for scientific notations)\n",
    ":o\t\tOctal format\n",
    ":x\t\tHex format, lower case\n",
    ":X\t\tHex format, upper case\n",
    ":n\t\tNumber format\n",
    ":%\t\tPercentage format"
   ]
  },
  {
   "cell_type": "markdown",
   "id": "b1dc95e0",
   "metadata": {},
   "source": [
    "### index() Method:\n",
    "#### Definition and Usage\n",
    "- The index() method finds the first occurrence of the specified value.\n",
    "\n",
    "- The index() method raises an exception if the value is not found.\n",
    "\n",
    "- The index() method is almost the same as the find() method, the only difference is that the find() method returns -1 if the value is not found. (See example below)\n",
    "\n"
   ]
  },
  {
   "cell_type": "code",
   "execution_count": 57,
   "id": "d6356450",
   "metadata": {},
   "outputs": [
    {
     "name": "stdout",
     "output_type": "stream",
     "text": [
      "7\n"
     ]
    }
   ],
   "source": [
    "# Where in the text is the word \"welcome\"?:\n",
    "txt = \"Hello, welcome to my world.\"\n",
    "x = txt.index(\"welcome\")\n",
    "print(x)"
   ]
  },
  {
   "cell_type": "code",
   "execution_count": null,
   "id": "60915c72",
   "metadata": {},
   "outputs": [],
   "source": [
    "Parameter Values\n",
    "Parameter\tDescription\n",
    "value\tRequired. The value to search for\n",
    "start\tOptional. Where to start the search. Default is 0\n",
    "end\tOptional. Where to end the search. Default is to the end of the string"
   ]
  },
  {
   "cell_type": "code",
   "execution_count": 58,
   "id": "c9a95837",
   "metadata": {},
   "outputs": [
    {
     "name": "stdout",
     "output_type": "stream",
     "text": [
      "1\n"
     ]
    }
   ],
   "source": [
    "# Where in the text is the first occurrence of the letter \"e\"?:\n",
    "txt = \"Hello, welcome to my world.\"\n",
    "x = txt.index(\"e\")\n",
    "print(x)"
   ]
  },
  {
   "cell_type": "code",
   "execution_count": 59,
   "id": "28906b21",
   "metadata": {},
   "outputs": [
    {
     "name": "stdout",
     "output_type": "stream",
     "text": [
      "8\n"
     ]
    }
   ],
   "source": [
    "# Where in the text is the first occurrence of the letter \"e\" when you only search between position 5 and 10?:\n",
    "txt = \"Hello, welcome to my world.\"\n",
    "x = txt.index(\"e\", 5, 10)\n",
    "print(x)"
   ]
  },
  {
   "cell_type": "code",
   "execution_count": 60,
   "id": "144ade5f",
   "metadata": {},
   "outputs": [
    {
     "name": "stdout",
     "output_type": "stream",
     "text": [
      "-1\n"
     ]
    },
    {
     "ename": "ValueError",
     "evalue": "substring not found",
     "output_type": "error",
     "traceback": [
      "\u001b[1;31m---------------------------------------------------------------------------\u001b[0m",
      "\u001b[1;31mValueError\u001b[0m                                Traceback (most recent call last)",
      "\u001b[1;32m~\\AppData\\Local\\Temp\\ipykernel_14860\\2793419002.py\u001b[0m in \u001b[0;36m<module>\u001b[1;34m\u001b[0m\n\u001b[0;32m      2\u001b[0m \u001b[0mtxt\u001b[0m \u001b[1;33m=\u001b[0m \u001b[1;34m\"Hello, welcome to my world.\"\u001b[0m\u001b[1;33m\u001b[0m\u001b[1;33m\u001b[0m\u001b[0m\n\u001b[0;32m      3\u001b[0m \u001b[0mprint\u001b[0m\u001b[1;33m(\u001b[0m\u001b[0mtxt\u001b[0m\u001b[1;33m.\u001b[0m\u001b[0mfind\u001b[0m\u001b[1;33m(\u001b[0m\u001b[1;34m\"q\"\u001b[0m\u001b[1;33m)\u001b[0m\u001b[1;33m)\u001b[0m\u001b[1;33m\u001b[0m\u001b[1;33m\u001b[0m\u001b[0m\n\u001b[1;32m----> 4\u001b[1;33m \u001b[0mprint\u001b[0m\u001b[1;33m(\u001b[0m\u001b[0mtxt\u001b[0m\u001b[1;33m.\u001b[0m\u001b[0mindex\u001b[0m\u001b[1;33m(\u001b[0m\u001b[1;34m\"q\"\u001b[0m\u001b[1;33m)\u001b[0m\u001b[1;33m)\u001b[0m\u001b[1;33m\u001b[0m\u001b[1;33m\u001b[0m\u001b[0m\n\u001b[0m",
      "\u001b[1;31mValueError\u001b[0m: substring not found"
     ]
    }
   ],
   "source": [
    "# If the value is not found, the find() method returns -1, but the index() method will raise an exception:\n",
    "txt = \"Hello, welcome to my world.\"\n",
    "print(txt.find(\"q\"))\n",
    "print(txt.index(\"q\"))"
   ]
  },
  {
   "cell_type": "markdown",
   "id": "4ff59d49",
   "metadata": {},
   "source": [
    "### isalpha() \n",
    "### isdigit() \n",
    "### isalnum()\n",
    "### isspace() \n",
    "and more: These methods check if the string satisfies certain conditions, such as containing only alphabetic characters, digits, alphanumeric characters, or whitespace."
   ]
  },
  {
   "cell_type": "code",
   "execution_count": 61,
   "id": "56aff2e7",
   "metadata": {},
   "outputs": [
    {
     "name": "stdout",
     "output_type": "stream",
     "text": [
      "False\n",
      "False\n",
      "True\n"
     ]
    }
   ],
   "source": [
    "text = \"Hello123\"\n",
    "is_alpha = text.isalpha()  # False\n",
    "is_digit = text.isdigit()  # False\n",
    "is_alnum = text.isalnum()  # True\n",
    "print(is_alpha)\n",
    "print(is_digit)\n",
    "print(is_alnum)"
   ]
  },
  {
   "cell_type": "markdown",
   "id": "19383fbe",
   "metadata": {},
   "source": [
    "### join() Method\n",
    "#### Definition and Usage\n",
    "The join() method takes all items in an iterable and joins them into one string.\n",
    "\n",
    "A string must be specified as the separator."
   ]
  },
  {
   "cell_type": "code",
   "execution_count": 62,
   "id": "95000b4a",
   "metadata": {},
   "outputs": [
    {
     "name": "stdout",
     "output_type": "stream",
     "text": [
      "John#Peter#Vicky\n"
     ]
    }
   ],
   "source": [
    "myTuple = (\"John\", \"Peter\", \"Vicky\")\n",
    "\n",
    "x = \"#\".join(myTuple)\n",
    "\n",
    "print(x)"
   ]
  },
  {
   "cell_type": "code",
   "execution_count": 63,
   "id": "d7bfeb74",
   "metadata": {},
   "outputs": [
    {
     "name": "stdout",
     "output_type": "stream",
     "text": [
      "nameTESTcountry\n"
     ]
    }
   ],
   "source": [
    "# Join all items in a dictionary into a string, using the word \"TEST\" as separator:\n",
    "\n",
    "myDict = {\"name\": \"John\", \"country\": \"Norway\"}\n",
    "mySeparator = \"TEST\"\n",
    "\n",
    "x = mySeparator.join(myDict)\n",
    "\n",
    "print(x)"
   ]
  },
  {
   "cell_type": "markdown",
   "id": "06828494",
   "metadata": {},
   "source": [
    "Note: When using a dictionary as an iterable, the returned values are the keys, not the values."
   ]
  },
  {
   "cell_type": "markdown",
   "id": "5339260d",
   "metadata": {},
   "source": [
    "### partition() Method\n",
    "#### Definition and Usage\n",
    "- The partition() method searches for a specified string, and splits the string into a tuple containing three elements.\n",
    "\n",
    "- The first element contains the part before the specified string.\n",
    "\n",
    "- The second element contains the specified string.\n",
    "\n",
    "- The third element contains the part after the string.\n",
    "\n",
    "- Note: This method searches for the first occurrence of the specified string."
   ]
  },
  {
   "cell_type": "code",
   "execution_count": 64,
   "id": "9b82912e",
   "metadata": {},
   "outputs": [
    {
     "name": "stdout",
     "output_type": "stream",
     "text": [
      "('I could eat ', 'bananas', ' all day')\n"
     ]
    }
   ],
   "source": [
    "# Example\n",
    "# Search for the word \"bananas\", and return a tuple with three elements:\n",
    "\n",
    "# 1 - everything before the \"match\"\n",
    "# 2 - the \"match\"\n",
    "# 3 - everything after the \"match\"\n",
    "\n",
    "txt = \"I could eat bananas all day\"\n",
    "\n",
    "x = txt.partition(\"bananas\")\n",
    "\n",
    "print(x)\n"
   ]
  },
  {
   "cell_type": "code",
   "execution_count": 65,
   "id": "403c6c61",
   "metadata": {},
   "outputs": [
    {
     "name": "stdout",
     "output_type": "stream",
     "text": [
      "('I could eat bananas all day', '', '')\n"
     ]
    }
   ],
   "source": [
    "# If the specified value is not found, the partition() method returns a tuple containing: 1 - the whole string, 2 - an empty string, 3 - an empty string:\n",
    "\n",
    "txt = \"I could eat bananas all day\"\n",
    "\n",
    "x = txt.partition(\"apples\")\n",
    "\n",
    "print(x)"
   ]
  },
  {
   "cell_type": "markdown",
   "id": "346cea78",
   "metadata": {},
   "source": [
    "### strip() Method\n",
    "#### Definition and Usage\n",
    "The strip() method removes any leading, and trailing whitespaces.\n",
    "\n",
    "Leading means at the beginning of the string, trailing means at the end.\n",
    "\n",
    "You can specify which character(s) to remove, if not, any whitespaces will be removed."
   ]
  },
  {
   "cell_type": "code",
   "execution_count": 66,
   "id": "417a1bd4",
   "metadata": {},
   "outputs": [
    {
     "name": "stdout",
     "output_type": "stream",
     "text": [
      "of all fruits banana is my favorite\n"
     ]
    }
   ],
   "source": [
    "# Remove spaces at the beginning and at the end of the string:\n",
    "\n",
    "txt = \"     banana     \"\n",
    "\n",
    "x = txt.strip()\n",
    "\n",
    "print(\"of all fruits\", x, \"is my favorite\")"
   ]
  },
  {
   "cell_type": "code",
   "execution_count": 67,
   "id": "fde17ed3",
   "metadata": {},
   "outputs": [
    {
     "name": "stdout",
     "output_type": "stream",
     "text": [
      "banana\n"
     ]
    }
   ],
   "source": [
    "# Remove the leading and trailing characters:\n",
    "\n",
    "txt = \",,,,,rrttgg.....banana....rrr\"\n",
    "\n",
    "x = txt.strip(\",.grt\")\n",
    "\n",
    "print(x)"
   ]
  },
  {
   "cell_type": "markdown",
   "id": "2c8e7a15",
   "metadata": {},
   "source": [
    "### translate() Method\n",
    "#### Definition and Usage\n",
    "The translate() method returns a string where some specified characters are replaced with the character described in a dictionary, or in a mapping table.\n",
    "\n",
    "Use the maketrans() method to create a mapping table.\n",
    "\n",
    "If a character is not specified in the dictionary/table, the character will not be replaced.\n",
    "\n",
    "If you use a dictionary, you must use ascii codes instead of characters."
   ]
  },
  {
   "cell_type": "code",
   "execution_count": 68,
   "id": "badd9708",
   "metadata": {},
   "outputs": [
    {
     "name": "stdout",
     "output_type": "stream",
     "text": [
      "Hello Pam!\n"
     ]
    }
   ],
   "source": [
    "# Replace any \"S\" characters with a \"P\" character:\n",
    "\n",
    "#use a dictionary with ascii codes to replace 83 (S) with 80 (P):\n",
    "mydict = {83:  80}\n",
    "txt = \"Hello Sam!\"\n",
    "print(txt.translate(mydict))"
   ]
  },
  {
   "cell_type": "code",
   "execution_count": 69,
   "id": "ac7ec863",
   "metadata": {},
   "outputs": [
    {
     "name": "stdout",
     "output_type": "stream",
     "text": [
      "Hello Pam!\n"
     ]
    }
   ],
   "source": [
    "# Use a mapping table to replace \"S\" with \"P\":\n",
    "\n",
    "txt = \"Hello Sam!\"\n",
    "mytable = str.maketrans(\"S\", \"P\")\n",
    "print(txt.translate(mytable))"
   ]
  },
  {
   "cell_type": "code",
   "execution_count": 70,
   "id": "51b65d4e",
   "metadata": {},
   "outputs": [
    {
     "name": "stdout",
     "output_type": "stream",
     "text": [
      "Hi Joe!\n"
     ]
    }
   ],
   "source": [
    "# Use a mapping table to replace many characters:\n",
    "\n",
    "txt = \"Hi Sam!\"\n",
    "x = \"mSa\"\n",
    "y = \"eJo\"\n",
    "mytable = str.maketrans(x, y)\n",
    "print(txt.translate(mytable))"
   ]
  },
  {
   "cell_type": "code",
   "execution_count": 71,
   "id": "0b96cdda",
   "metadata": {},
   "outputs": [
    {
     "name": "stdout",
     "output_type": "stream",
     "text": [
      "G i Joe!\n"
     ]
    }
   ],
   "source": [
    "# The third parameter in the mapping table describes characters that you want to remove from the string:\n",
    "\n",
    "txt = \"Good night Sam!\"\n",
    "x = \"mSa\"\n",
    "y = \"eJo\"\n",
    "z = \"odnght\"\n",
    "mytable = str.maketrans(x, y, z)\n",
    "print(txt.translate(mytable))"
   ]
  },
  {
   "cell_type": "code",
   "execution_count": 72,
   "id": "066e7b51",
   "metadata": {},
   "outputs": [
    {
     "name": "stdout",
     "output_type": "stream",
     "text": [
      "G i Joe!\n"
     ]
    }
   ],
   "source": [
    "# The same example as above, but using a dictionary instead of a mapping table:\n",
    "\n",
    "txt = \"Good night Sam!\"\n",
    "mydict = {109: 101, 83: 74, 97: 111, 111: None, 100: None, 110: None, 103: None, 104: None, 116: None}\n",
    "print(txt.translate(mydict))"
   ]
  },
  {
   "cell_type": "markdown",
   "id": "9810016b",
   "metadata": {},
   "source": [
    "### swapcase() Method\n",
    "#### Definition and Usage\n",
    "The swapcase() method returns a string where all the upper case letters are lower case and vice versa."
   ]
  },
  {
   "cell_type": "code",
   "execution_count": 73,
   "id": "ce21b560",
   "metadata": {},
   "outputs": [
    {
     "name": "stdout",
     "output_type": "stream",
     "text": [
      "hELLO mY nAME iS peter\n"
     ]
    }
   ],
   "source": [
    "# Make the lower case letters upper case and the upper case letters lower case:\n",
    "\n",
    "txt = \"Hello My Name Is PETER\"\n",
    "\n",
    "x = txt.swapcase()\n",
    "\n",
    "print(x)"
   ]
  },
  {
   "cell_type": "markdown",
   "id": "b26203ce",
   "metadata": {},
   "source": [
    "### replace() Method\n",
    "#### Definition and Usage\n",
    "- The replace() method replaces a specified phrase with another specified phrase.\n",
    "\n",
    "- Note: All occurrences of the specified phrase will be replaced, if nothing else is specified."
   ]
  },
  {
   "cell_type": "code",
   "execution_count": 74,
   "id": "93f97cb3",
   "metadata": {},
   "outputs": [
    {
     "name": "stdout",
     "output_type": "stream",
     "text": [
      "I like apples\n"
     ]
    }
   ],
   "source": [
    "# Replace the word \"bananas\":\n",
    "\n",
    "txt = \"I like bananas\"\n",
    "\n",
    "x = txt.replace(\"bananas\", \"apples\")\n",
    "\n",
    "print(x)"
   ]
  },
  {
   "cell_type": "code",
   "execution_count": null,
   "id": "978bdb9a",
   "metadata": {},
   "outputs": [],
   "source": [
    "   Parameter Values\n",
    "Parameter\tDescription\n",
    "oldvalue\tRequired. The string to search for\n",
    "newvalue\tRequired. The string to replace the old value with\n",
    "count\tOptional. A number specifying how many occurrences of the old value you want to replace. Default is all occurrences"
   ]
  },
  {
   "cell_type": "code",
   "execution_count": 75,
   "id": "4dae9eef",
   "metadata": {},
   "outputs": [
    {
     "name": "stdout",
     "output_type": "stream",
     "text": [
      "three three was a race horse, two two was three too.\n"
     ]
    }
   ],
   "source": [
    "# Replace all occurrence of the word \"one\":\n",
    "\n",
    "txt = \"one one was a race horse, two two was one too.\"\n",
    "\n",
    "x = txt.replace(\"one\", \"three\")\n",
    "\n",
    "print(x)"
   ]
  },
  {
   "cell_type": "code",
   "execution_count": 76,
   "id": "0b7fff31",
   "metadata": {},
   "outputs": [
    {
     "name": "stdout",
     "output_type": "stream",
     "text": [
      "three three was a race horse, two two was one too.\n"
     ]
    }
   ],
   "source": [
    "# Replace the two first occurrence of the word \"one\":\n",
    "txt = \"one one was a race horse, two two was one too.\"\n",
    "\n",
    "x = txt.replace(\"one\", \"three\", 2)\n",
    "\n",
    "print(x)"
   ]
  },
  {
   "cell_type": "markdown",
   "id": "da4b71f2",
   "metadata": {},
   "source": [
    "### upper() Method\n",
    "#### Definition and Usage\n",
    "The upper() method returns a string where all characters are in upper case.\n",
    "\n",
    " Symbols and Numbers are ignored."
   ]
  },
  {
   "cell_type": "code",
   "execution_count": 78,
   "id": "52f836b8",
   "metadata": {},
   "outputs": [
    {
     "name": "stdout",
     "output_type": "stream",
     "text": [
      "HELLO MY FRIENDS\n"
     ]
    }
   ],
   "source": [
    "# Upper case the string:\n",
    "\n",
    "txt = \"Hello my friends\"\n",
    "\n",
    "x = txt.upper()\n",
    "\n",
    "print(x)"
   ]
  },
  {
   "cell_type": "markdown",
   "id": "c6f6344f",
   "metadata": {},
   "source": [
    "### split() Method\n",
    "#### Definition and Usage\n",
    "The split() method splits a string into a list.\n",
    "\n",
    "You can specify the separator, default separator is any whitespace.\n",
    "\n",
    "- Note: When maxsplit is specified, the list will contain the specified number of elements plus one."
   ]
  },
  {
   "cell_type": "code",
   "execution_count": 79,
   "id": "988f1aeb",
   "metadata": {},
   "outputs": [
    {
     "name": "stdout",
     "output_type": "stream",
     "text": [
      "['welcome', 'to', 'the', 'jungle']\n"
     ]
    }
   ],
   "source": [
    "# Split a string into a list where each word is a list item:\n",
    "txt = \"welcome to the jungle\"\n",
    "\n",
    "x = txt.split()\n",
    "\n",
    "print(x)"
   ]
  },
  {
   "cell_type": "code",
   "execution_count": null,
   "id": "7be8feed",
   "metadata": {},
   "outputs": [],
   "source": [
    "Parameter Values\n",
    "Parameter\tDescription\n",
    "separator\tOptional. Specifies the separator to use when splitting the string. By default any whitespace is a separator\n",
    "maxsplit\tOptional. Specifies how many splits to do. Default value is -1, which is \"all occurrences\""
   ]
  },
  {
   "cell_type": "code",
   "execution_count": 80,
   "id": "61297d4f",
   "metadata": {},
   "outputs": [
    {
     "name": "stdout",
     "output_type": "stream",
     "text": [
      "['hello', 'my name is Peter', 'I am 26 years old']\n"
     ]
    }
   ],
   "source": [
    "# Split the string, using comma, followed by a space, as a separator:\n",
    "\n",
    "txt = \"hello, my name is Peter, I am 26 years old\"\n",
    "\n",
    "x = txt.split(\", \")\n",
    "\n",
    "print(x)"
   ]
  },
  {
   "cell_type": "code",
   "execution_count": 81,
   "id": "cd29c1fc",
   "metadata": {},
   "outputs": [
    {
     "name": "stdout",
     "output_type": "stream",
     "text": [
      "['apple', 'banana', 'cherry', 'orange']\n"
     ]
    }
   ],
   "source": [
    "# Use a hash character as a separator:\n",
    "\n",
    "txt = \"apple#banana#cherry#orange\"\n",
    "\n",
    "x = txt.split(\"#\")\n",
    "\n",
    "print(x)"
   ]
  },
  {
   "cell_type": "code",
   "execution_count": 82,
   "id": "b03f6937",
   "metadata": {},
   "outputs": [
    {
     "name": "stdout",
     "output_type": "stream",
     "text": [
      "['apple', 'banana#cherry#orange']\n"
     ]
    }
   ],
   "source": [
    "# Split the string into a list with max 2 items:\n",
    "\n",
    "txt = \"apple#banana#cherry#orange\"\n",
    "\n",
    "# setting the maxsplit parameter to 1, will return a list with 2 elements!\n",
    "x = txt.split(\"#\", 1)\n",
    "\n",
    "print(x)"
   ]
  },
  {
   "cell_type": "markdown",
   "id": "280c5de0",
   "metadata": {},
   "source": [
    "# Functions"
   ]
  },
  {
   "cell_type": "markdown",
   "id": "b61cdc3b",
   "metadata": {},
   "source": [
    "Functions:-\n",
    "\n",
    "A function is a block of code which only runs when it is called.\n",
    "\n",
    "You can pass data, known as parameters, into a function.\n",
    "\n",
    "A function can return data as a result.\n",
    "\n"
   ]
  },
  {
   "cell_type": "markdown",
   "id": "8e90f941",
   "metadata": {},
   "source": [
    "_Let's break down the components of a function definition:\n",
    "\n",
    "- def: This keyword is used to define a function.\n",
    "\n",
    "- function_name: This is the name of the function. It should be a valid identifier following Python naming conventions. Function names are case-sensitive.\n",
    "\n",
    "- parameters (optional): These are placeholders for values that the function can accept as input. Parameters are enclosed in parentheses and separated by commas. A function can have zero or more parameters. Parameters are optional, and you can define a function with no parameters.\n",
    "\n",
    "- Docstring (optional): The docstring is an optional, enclosed triple-quoted string that provides documentation for the function. It describes what the function does, its parameters, and its return value. While not required, it's considered good practice to include a docstring to help other developers (and yourself) understand how to use the function.\n",
    "\n",
    "- Function body: This is the block of code that performs the tasks of the function. It's indented under the def statement and is executed when the function is called. It can contain one or more statements.\n",
    "\n",
    "- return (optional): If a function needs to produce a result or value, it can use the return statement to send that value back to the caller. Not all functions need to return a value. If no return statement is used, the function implicitly returns None.\\\n",
    "\n",
    "Function definitions allow you to encapsulate a specific piece of functionality, making your code more organized, modular, and reusable. They are a fundamental concept in Python and play a crucial role in software development."
   ]
  },
  {
   "cell_type": "markdown",
   "id": "0ad20029",
   "metadata": {},
   "source": [
    "## Calling a Function\n",
    "To call a function, use the function name followed by parenthesis:"
   ]
  },
  {
   "cell_type": "code",
   "execution_count": 85,
   "id": "f64937ae",
   "metadata": {},
   "outputs": [
    {
     "name": "stdout",
     "output_type": "stream",
     "text": [
      "Hello from a function\n"
     ]
    }
   ],
   "source": [
    "def my_function():\n",
    "  print(\"Hello from a function\")\n",
    "\n",
    "my_function()"
   ]
  },
  {
   "cell_type": "markdown",
   "id": "ce32e5d8",
   "metadata": {},
   "source": [
    "_Let's break down the components of a function call:\n",
    "\n",
    "- function_name: This is the name of the function you want to call.\n",
    "\n",
    "- arguments (optional): These are the values or expressions you want to pass to the function's parameters. If the function doesn't require any arguments, you can leave the parentheses empty.\n",
    "\n",
    "- result (optional): If the function returns a value, you can capture that value in a variable, as shown in the example above."
   ]
  },
  {
   "cell_type": "markdown",
   "id": "a7909188",
   "metadata": {},
   "source": [
    "## Function Arguments\n",
    "In Python, functions can accept arguments or parameters, which are values or variables that are passed into the function when it is called. These arguments provide data for the function to operate on. There are several types of function arguments in Python:"
   ]
  },
  {
   "cell_type": "markdown",
   "id": "eecd207d",
   "metadata": {},
   "source": [
    "1. Positional Arguments: These are the most common type of arguments. They are matched to parameters based on their position, meaning the first argument is assigned to the first parameter, the second argument to the second parameter, and so on."
   ]
  },
  {
   "cell_type": "code",
   "execution_count": 86,
   "id": "6fa1e245",
   "metadata": {},
   "outputs": [
    {
     "name": "stdout",
     "output_type": "stream",
     "text": [
      "8\n"
     ]
    }
   ],
   "source": [
    "def add(a, b):\n",
    "    return a + b\n",
    "\n",
    "result = add(3, 5)  # a=3, b=5\n",
    "print(result)"
   ]
  },
  {
   "cell_type": "markdown",
   "id": "adf46d7a",
   "metadata": {},
   "source": [
    "2. Keyword Arguments: You can also pass arguments by specifying the parameter name followed by a value. This way, the order of the arguments doesn't matter."
   ]
  },
  {
   "cell_type": "code",
   "execution_count": 87,
   "id": "01ff26cb",
   "metadata": {},
   "outputs": [
    {
     "name": "stdout",
     "output_type": "stream",
     "text": [
      "8\n"
     ]
    }
   ],
   "source": [
    "def add(a, b):\n",
    "    return a + b\n",
    "\n",
    "result = add(b=5, a=3)  # Order doesn't matter\n",
    "print(result)"
   ]
  },
  {
   "cell_type": "markdown",
   "id": "1339262b",
   "metadata": {},
   "source": [
    "3. Default Arguments: You can provide default values for parameters in the function definition. If an argument is not provided when calling the function, it takes on the default value."
   ]
  },
  {
   "cell_type": "code",
   "execution_count": 88,
   "id": "a8d3500a",
   "metadata": {},
   "outputs": [
    {
     "name": "stdout",
     "output_type": "stream",
     "text": [
      "Hello, Alice!\n"
     ]
    }
   ],
   "source": [
    "def greet(name, greeting=\"Hello\"):\n",
    "    return f\"{greeting}, {name}!\"\n",
    "\n",
    "message = greet(\"Alice\")  # Default greeting used\n",
    "print(message)"
   ]
  },
  {
   "cell_type": "markdown",
   "id": "4c57f284",
   "metadata": {},
   "source": [
    "4. Variable-Length Arguments: In cases where you don't know how many arguments will be passed to a function, you can use variable-length arguments. There are two types:\n",
    "\n",
    "- Arbitrary Positional Arguments (*args): These allow you to pass any number of positional arguments. Inside the function, args becomes a tuple containing all the passed arguments."
   ]
  },
  {
   "cell_type": "code",
   "execution_count": 89,
   "id": "1b770c50",
   "metadata": {},
   "outputs": [
    {
     "name": "stdout",
     "output_type": "stream",
     "text": [
      "10\n"
     ]
    }
   ],
   "source": [
    "def sum_all(*args):\n",
    "    total = 0\n",
    "    for num in args:\n",
    "        total += num\n",
    "    return total\n",
    "\n",
    "result = sum_all(1, 2, 3, 4)  # Any number of arguments can be passed\n",
    "print(result)"
   ]
  },
  {
   "cell_type": "markdown",
   "id": "2125ac92",
   "metadata": {},
   "source": [
    "- Arbitrary Keyword Arguments (**kwargs): These allow you to pass any number of keyword arguments. Inside the function, kwargs becomes a dictionary containing the passed keyword arguments."
   ]
  },
  {
   "cell_type": "code",
   "execution_count": 90,
   "id": "c56f508c",
   "metadata": {},
   "outputs": [
    {
     "name": "stdout",
     "output_type": "stream",
     "text": [
      "name: Alice\n",
      "age: 30\n",
      "city: New York\n"
     ]
    }
   ],
   "source": [
    "def person_info(**kwargs):\n",
    "    for key, value in kwargs.items():\n",
    "        print(f\"{key}: {value}\")\n",
    "\n",
    "person_info(name=\"Alice\", age=30, city=\"New York\")  # Any number of keyword arguments can be passed\n"
   ]
  },
  {
   "cell_type": "markdown",
   "id": "31a1c11f",
   "metadata": {},
   "source": [
    "5. Combining Argument Types: You can use a combination of positional, keyword, and default arguments in your function definitions."
   ]
  },
  {
   "cell_type": "code",
   "execution_count": 91,
   "id": "2fd54f4f",
   "metadata": {},
   "outputs": [
    {
     "name": "stdout",
     "output_type": "stream",
     "text": [
      "Alice is 30 years old, from Unknown, and is American.\n"
     ]
    }
   ],
   "source": [
    "def describe_person(name, age, city=\"Unknown\", nationality=\"Unknown\"):\n",
    "    return f\"{name} is {age} years old, from {city}, and is {nationality}.\"\n",
    "\n",
    "result = describe_person(\"Alice\", 30, nationality=\"American\")\n",
    "print(result)"
   ]
  },
  {
   "cell_type": "markdown",
   "id": "c6688bce",
   "metadata": {},
   "source": [
    "When calling a function, it's important to provide the correct number and type of arguments that match the function's parameter list. Using the various types of function arguments allows you to create flexible and versatile functions that can handle different scenarios."
   ]
  },
  {
   "cell_type": "markdown",
   "id": "3d7a3b8d",
   "metadata": {},
   "source": [
    "## Default Arguments\n",
    "Default arguments are parameters in a function that have predefined values. When you define a function with default arguments, you specify a default value for one or more parameters. If a caller does not provide a value for a parameter with a default value, the default value is used instead."
   ]
  },
  {
   "cell_type": "code",
   "execution_count": 92,
   "id": "84c0c1bf",
   "metadata": {},
   "outputs": [
    {
     "name": "stdout",
     "output_type": "stream",
     "text": [
      "I am from Sweden\n",
      "I am from India\n",
      "I am from Norway\n",
      "I am from Brazil\n"
     ]
    }
   ],
   "source": [
    "def my_function(country = \"Norway\"):\n",
    "  print(\"I am from \" + country)\n",
    "\n",
    "my_function(\"Sweden\")\n",
    "my_function(\"India\")\n",
    "my_function()\n",
    "my_function(\"Brazil\")"
   ]
  },
  {
   "cell_type": "markdown",
   "id": "2504f8c8",
   "metadata": {},
   "source": [
    "_Key points about default arguments:\n",
    "\n",
    "- Default values are specified in the function definition and are assigned to the parameters.\n",
    "\n",
    "- Parameters with default values must come after parameters without default values in the function's parameter list.\n",
    "\n",
    "- When calling the function, you can provide values for parameters with default values, and those values will override the defaults."
   ]
  },
  {
   "cell_type": "markdown",
   "id": "6c5effbf",
   "metadata": {},
   "source": [
    "## Docstrings\n",
    "A docstring is a special type of string that is used as a comment to provide documentation for a module, class, or function. Docstrings are intended to help developers understand the purpose and usage of the code they are reading or using. They are also used by automated documentation generation tools to generate documentation for Python code.\n",
    "\n",
    "Here's how to write a docstring in Python:"
   ]
  },
  {
   "cell_type": "markdown",
   "id": "d588830a",
   "metadata": {},
   "source": [
    "1. Module-Level Docstring: At the beginning of a Python module (a .py file), you can include a module-level docstring enclosed in triple quotes. This docstring provides an overview of the module's contents."
   ]
  },
  {
   "cell_type": "code",
   "execution_count": null,
   "id": "ffefb523",
   "metadata": {},
   "outputs": [],
   "source": [
    "\"\"\"\n",
    "This is a module-level docstring.\n",
    "It provides an overview of what this module does.\n",
    "\"\"\""
   ]
  },
  {
   "cell_type": "markdown",
   "id": "7d72bf2c",
   "metadata": {},
   "source": [
    "2. Class-Level Docstring: Before the definition of a class, you can include a class-level docstring to describe the purpose and usage of the class."
   ]
  },
  {
   "cell_type": "code",
   "execution_count": 93,
   "id": "d2094b08",
   "metadata": {},
   "outputs": [],
   "source": [
    "class MyClass:\n",
    "    \"\"\"\n",
    "    This is a class-level docstring.\n",
    "    It describes the MyClass class.\n",
    "    \"\"\""
   ]
  },
  {
   "cell_type": "markdown",
   "id": "9f13e548",
   "metadata": {},
   "source": [
    "3. Function or Method Docstring: Just below the function or method definition, you can include a docstring that describes what the function or method does, its parameters, and its return value (if any)."
   ]
  },
  {
   "cell_type": "code",
   "execution_count": 94,
   "id": "5b5ee120",
   "metadata": {},
   "outputs": [],
   "source": [
    "def my_function(param1, param2):\n",
    "    \"\"\"\n",
    "    This is a function docstring.\n",
    "    \n",
    "    Args:\n",
    "        param1: Description of param1.\n",
    "        param2: Description of param2.\n",
    "    \n",
    "    Returns:\n",
    "        Description of the return value (if any).\n",
    "    \"\"\""
   ]
  },
  {
   "cell_type": "markdown",
   "id": "613f1d3b",
   "metadata": {},
   "source": [
    "Docstrings are enclosed in triple quotes (either single or double), which allows them to span multiple lines. It's common practice to follow the PEP 257 style guide for docstrings, which provides recommendations on how to format and structure docstrings for consistency.\n",
    "\n",
    "To access the docstring of a module, class, or function, you can use the built-in help() function or access the .__doc__ attribute of the object. For example:"
   ]
  },
  {
   "cell_type": "code",
   "execution_count": 95,
   "id": "5b2d0019",
   "metadata": {},
   "outputs": [
    {
     "name": "stdout",
     "output_type": "stream",
     "text": [
      "Help on function my_function in module __main__:\n",
      "\n",
      "my_function(param1, param2)\n",
      "    This is a function docstring.\n",
      "    \n",
      "    Args:\n",
      "        param1: Description of param1.\n",
      "        param2: Description of param2.\n",
      "    \n",
      "    Returns:\n",
      "        Description of the return value (if any).\n",
      "\n",
      "\n",
      "    This is a function docstring.\n",
      "    \n",
      "    Args:\n",
      "        param1: Description of param1.\n",
      "        param2: Description of param2.\n",
      "    \n",
      "    Returns:\n",
      "        Description of the return value (if any).\n",
      "    \n"
     ]
    }
   ],
   "source": [
    "help(my_function)  # Display the docstring for my_function\n",
    "print(my_function.__doc__)  # Print the docstring as a string"
   ]
  },
  {
   "cell_type": "markdown",
   "id": "1c1eea26",
   "metadata": {},
   "source": [
    "Writing meaningful docstrings is important for code maintainability and collaboration, as it helps others (and yourself) understand how to use and interact with your code. Additionally, it enables the generation of documentation using tools like Sphinx and can improve code quality and readability."
   ]
  },
  {
   "cell_type": "markdown",
   "id": "0824eeab",
   "metadata": {},
   "source": [
    "## Scope\n",
    "Scope refers to the region or context in which a variable or name is defined and can be accessed. The concept of scope is crucial for understanding variable visibility and lifetime in your code. Python has two main types of scope:\n",
    "\n",
    "1. Local Scope (Function Scope): Variables defined within a function are said to have local scope. They are only accessible within that specific function. These variables are created when the function is called and destroyed when the function exits. Local scope is temporary and isolated to the function."
   ]
  },
  {
   "cell_type": "code",
   "execution_count": 96,
   "id": "99ee8f9f",
   "metadata": {},
   "outputs": [
    {
     "name": "stdout",
     "output_type": "stream",
     "text": [
      "10\n",
      "['apple', 'banana#cherry#orange']\n"
     ]
    }
   ],
   "source": [
    "def my_function():\n",
    "    x = 10  # x has local scope\n",
    "    print(x)  # x is accessible within my_function\n",
    "\n",
    "my_function()\n",
    "print(x)  # Raises a NameError because x is not defined in this scope"
   ]
  },
  {
   "cell_type": "markdown",
   "id": "d4683215",
   "metadata": {},
   "source": [
    "2. Global Scope: Variables defined outside of any function, class, or block have global scope. They are accessible from anywhere within the module or script where they are defined. Global variables are created when the module is imported or when the script is run and exist until the program terminates."
   ]
  },
  {
   "cell_type": "code",
   "execution_count": 97,
   "id": "6f345374",
   "metadata": {},
   "outputs": [
    {
     "name": "stdout",
     "output_type": "stream",
     "text": [
      "20\n",
      "20\n"
     ]
    }
   ],
   "source": [
    "y = 20  # y has global scope\n",
    "\n",
    "def another_function():\n",
    "    print(y)  # y is accessible within another_function\n",
    "\n",
    "another_function()\n",
    "print(y)  # y is accessible outside the function as well"
   ]
  },
  {
   "cell_type": "markdown",
   "id": "6f05fd6a",
   "metadata": {},
   "source": [
    "Variables in local scope do not conflict with variables in global scope, meaning you can have a local variable with the same name as a global variable, and they won't interfere with each other.\n",
    "\n",
    "However, if you want to modify a global variable from within a function, you need to use the global keyword to indicate that you're working with the global variable:"
   ]
  },
  {
   "cell_type": "code",
   "execution_count": 98,
   "id": "fa7af722",
   "metadata": {},
   "outputs": [
    {
     "name": "stdout",
     "output_type": "stream",
     "text": [
      "35\n"
     ]
    }
   ],
   "source": [
    "z = 30  # z has global scope\n",
    "\n",
    "def modify_global_variable():\n",
    "    global z\n",
    "    z += 5  # Modify the global variable z\n",
    "\n",
    "modify_global_variable()\n",
    "print(z)  # z is now 35"
   ]
  },
  {
   "cell_type": "markdown",
   "id": "f4867179",
   "metadata": {},
   "source": [
    "3. Enclosing (Nested) Scope (Non-local Scope): Python supports nested functions, where you can have functions defined inside other functions. In this case, variables in the enclosing (outer) function's scope can be accessed from the inner function."
   ]
  },
  {
   "cell_type": "code",
   "execution_count": 99,
   "id": "69a5b355",
   "metadata": {},
   "outputs": [
    {
     "name": "stdout",
     "output_type": "stream",
     "text": [
      "50\n"
     ]
    }
   ],
   "source": [
    "def outer_function():\n",
    "    a = 50  # a has enclosing scope\n",
    "\n",
    "    def inner_function():\n",
    "        print(a)  # a is accessible within inner_function\n",
    "\n",
    "    inner_function()\n",
    "\n",
    "outer_function()"
   ]
  },
  {
   "cell_type": "markdown",
   "id": "be653562",
   "metadata": {},
   "source": [
    "Variables in the inner function's scope are considered local to that function, and they do not affect variables in the outer function's scope.\n",
    "\n",
    "The concept of scope helps you manage variable names and prevent unintended variable modifications. It's important to understand scope to avoid bugs and to write clear and maintainable code. When a variable is referenced, Python searches for it in the following order: local scope, enclosing scope (if nested), and global scope. If the variable is not found in any of these scopes, Python raises a NameError."
   ]
  },
  {
   "cell_type": "markdown",
   "id": "244728d4",
   "metadata": {},
   "source": [
    "## Special functions Lambda, Map, and Filter\n",
    "The lambda, map, and filter functions are built-in functions that are used for working with sequences, such as lists, and performing operations on the elements of those sequences in a concise and functional way.\n",
    "\n",
    "1. Lambda Functions (lambda):\n",
    "\n",
    "Lambda functions, also known as anonymous functions, are small, unnamed functions defined using the lambda keyword.\n",
    "They are typically used when you need a simple, one-line function for a short-lived operation.\n",
    "Lambda functions take any number of arguments but can only have one expression.\n",
    "Example of a lambda function:"
   ]
  },
  {
   "cell_type": "code",
   "execution_count": 100,
   "id": "c931eeb9",
   "metadata": {},
   "outputs": [
    {
     "name": "stdout",
     "output_type": "stream",
     "text": [
      "8\n"
     ]
    }
   ],
   "source": [
    "add = lambda x, y: x + y\n",
    "result = add(3, 5)  # result is 8\n",
    "print(result)"
   ]
  },
  {
   "cell_type": "markdown",
   "id": "2ded8156",
   "metadata": {},
   "source": [
    "2. Map Function (map):\n",
    "\n",
    "The map function applies a given function to each item in an iterable (e.g., a list) and returns an iterator that contains the results.\n",
    "It takes two arguments: the function to apply and the iterable to apply it to.\n",
    "Example using map to square each element in a list:"
   ]
  },
  {
   "cell_type": "code",
   "execution_count": 102,
   "id": "0fd257ea",
   "metadata": {},
   "outputs": [
    {
     "name": "stdout",
     "output_type": "stream",
     "text": [
      "[1, 4, 9, 16, 25]\n"
     ]
    }
   ],
   "source": [
    "numbers = [1, 2, 3, 4, 5]\n",
    "squared = map(lambda x: x**2, numbers)\n",
    "squared_list = list(squared)  # [1, 4, 9, 16, 25]\n",
    "print(squared_list)"
   ]
  },
  {
   "cell_type": "markdown",
   "id": "b9877beb",
   "metadata": {},
   "source": [
    "3. Filter Function (filter):\n",
    "\n",
    "The filter function filters elements from an iterable based on a given function (predicate) and returns an iterator containing only the elements that satisfy the condition.\n",
    "It takes two arguments: the function that defines the condition and the iterable to filter.\n",
    "Example using filter to keep only even numbers in a list:"
   ]
  },
  {
   "cell_type": "code",
   "execution_count": 103,
   "id": "6c4e90aa",
   "metadata": {},
   "outputs": [
    {
     "name": "stdout",
     "output_type": "stream",
     "text": [
      "[2, 4, 6]\n"
     ]
    }
   ],
   "source": [
    "numbers = [1, 2, 3, 4, 5, 6]\n",
    "evens = filter(lambda x: x % 2 == 0, numbers)\n",
    "even_list = list(evens)  # [2, 4, 6]\n",
    "print(even_list)"
   ]
  },
  {
   "cell_type": "markdown",
   "id": "b5a4d0a6",
   "metadata": {},
   "source": [
    "These functions are often used in functional programming and can lead to more concise and readable code when you need to apply simple operations to multiple elements in a sequence. However, for complex operations or when readability is a concern, it's often recommended to use regular functions or list comprehensions for better clarity."
   ]
  },
  {
   "cell_type": "markdown",
   "id": "faef3cee",
   "metadata": {},
   "source": [
    "## Recursion\n",
    "Python also accepts function recursion, which means a defined function can call itself.\n",
    "\n",
    "Recursion is a common mathematical and programming concept. It means that a function calls itself. This has the benefit of meaning that you can loop through data to reach a result.\n",
    "\n",
    "The developer should be very careful with recursion as it can be quite easy to slip into writing a function which never terminates, or one that uses excess amounts of memory or processor power. However, when written correctly recursion can be a very efficient and mathematically-elegant approach to programming.\n",
    "\n",
    "In this example, tri_recursion() is a function that we have defined to call itself (\"recurse\"). We use the k variable as the data, which decrements (-1) every time we recurse. The recursion ends when the condition is not greater than 0 (i.e. when it is 0).\n",
    "\n",
    "To a new developer it can take some time to work out how exactly this works, best way to find out is by testing and modifying it."
   ]
  },
  {
   "cell_type": "code",
   "execution_count": 104,
   "id": "52a3dd36",
   "metadata": {},
   "outputs": [
    {
     "name": "stdout",
     "output_type": "stream",
     "text": [
      "\n",
      "\n",
      "Recursion Example Results\n",
      "1\n",
      "3\n",
      "6\n",
      "10\n",
      "15\n",
      "21\n"
     ]
    },
    {
     "data": {
      "text/plain": [
       "21"
      ]
     },
     "execution_count": 104,
     "metadata": {},
     "output_type": "execute_result"
    }
   ],
   "source": [
    "def tri_recursion(k):\n",
    "  if(k > 0):\n",
    "    result = k + tri_recursion(k - 1)\n",
    "    print(result)\n",
    "  else:\n",
    "    result = 0\n",
    "  return result\n",
    "\n",
    "print(\"\\n\\nRecursion Example Results\")\n",
    "tri_recursion(6)"
   ]
  },
  {
   "cell_type": "markdown",
   "id": "246d409d",
   "metadata": {},
   "source": [
    "## Functional Programming and Reference Functions\n",
    "### Functional Programming\n",
    "- Functional programming is a programming paradigm that treats computation as the evaluation of mathematical functions and avoids changing state and mutable data.\n",
    "- In functional programming, functions are first-class citizens, meaning they can be passed as arguments to other functions, returned as values from functions, and assigned to variables.\n",
    "- Functional programming promotes immutability and avoids side effects, making code more predictable and easier to reason about.\n",
    "- Functional programming languages or features are available in several programming languages, including Python.\n",
    "\n",
    "\n",
    "\n",
    "Example of functional programming in Python using map and lambda:"
   ]
  },
  {
   "cell_type": "code",
   "execution_count": 105,
   "id": "72ff47ee",
   "metadata": {},
   "outputs": [
    {
     "name": "stdout",
     "output_type": "stream",
     "text": [
      "[1, 4, 9, 16, 25]\n"
     ]
    }
   ],
   "source": [
    "numbers = [1, 2, 3, 4, 5]\n",
    "squared = map(lambda x: x**2, numbers)\n",
    "squared_list = list(squared)  # [1, 4, 9, 16, 25]\n",
    "print(squared_list)"
   ]
  },
  {
   "cell_type": "markdown",
   "id": "4cc984ea",
   "metadata": {},
   "source": [
    "2. Reference Functions:\n",
    "\n",
    "- The term \"reference function\" is not a standard programming concept in most programming languages, including Python.\n",
    "- In Python, you can have references to functions, which means you can assign a function to a variable and call that variable as if it were a function. This is related to Python's support for first-class functions.\n",
    "\n",
    "\n",
    "Example of assigning a function to a variable and using it as a reference:"
   ]
  },
  {
   "cell_type": "code",
   "execution_count": 106,
   "id": "51e84ed1",
   "metadata": {},
   "outputs": [
    {
     "name": "stdout",
     "output_type": "stream",
     "text": [
      "Hello, world!\n"
     ]
    }
   ],
   "source": [
    "def say_hello():\n",
    "    print(\"Hello, world!\")\n",
    "\n",
    "reference_function = say_hello  # Assign the function to a variable\n",
    "reference_function()  # Call the variable as if it were a function"
   ]
  },
  {
   "cell_type": "code",
   "execution_count": null,
   "id": "1d1bdce3",
   "metadata": {},
   "outputs": [],
   "source": []
  }
 ],
 "metadata": {
  "kernelspec": {
   "display_name": "Python 3 (ipykernel)",
   "language": "python",
   "name": "python3"
  },
  "language_info": {
   "codemirror_mode": {
    "name": "ipython",
    "version": 3
   },
   "file_extension": ".py",
   "mimetype": "text/x-python",
   "name": "python",
   "nbconvert_exporter": "python",
   "pygments_lexer": "ipython3",
   "version": "3.9.13"
  }
 },
 "nbformat": 4,
 "nbformat_minor": 5
}
