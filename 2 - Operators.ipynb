{
 "cells": [
  {
   "cell_type": "markdown",
   "id": "b35f9bbc",
   "metadata": {},
   "source": [
    "# OPERATORS"
   ]
  },
  {
   "cell_type": "markdown",
   "id": "0257cc87",
   "metadata": {},
   "source": [
    "Python Operators\n",
    "Operators are used to perform operations on variables and values.\n",
    "###### Python divides the operators in the following groups:\n",
    "\n",
    "- Arithmetic operators\n",
    "- Assignment operators\n",
    "- Comparison operators\n",
    "- Logical operators\n",
    "- Identity operators\n",
    "- Membership operators\n",
    "- Bitwise operators\n"
   ]
  },
  {
   "cell_type": "markdown",
   "id": "f963c5e0",
   "metadata": {},
   "source": [
    "## Arithmetic operators"
   ]
  },
  {
   "cell_type": "markdown",
   "id": "4b9d16a4",
   "metadata": {},
   "source": [
    "Arithmetic operators are symbols in programming that perform mathematical operations on numerical values, also known as operands. These operators allow you to perform basic arithmetic calculations such as addition, subtraction, multiplication, division, and more. They are essential in performing numerical computations and making calculations in programming. Here are the common arithmetic operators:"
   ]
  },
  {
   "cell_type": "code",
   "execution_count": 2,
   "id": "08f302ac",
   "metadata": {},
   "outputs": [
    {
     "name": "stdout",
     "output_type": "stream",
     "text": [
      "8\n",
      "6\n",
      "42\n",
      "4.0\n",
      "8\n",
      "5\n"
     ]
    }
   ],
   "source": [
    "# Addition +: Adds two operands.\n",
    "result = 5 + 3  # result is 8\n",
    "print(result)\n",
    "\n",
    "# Subtraction -: Subtracts the right operand from the left operand.\n",
    "result = 10 - 4  # result is 6\n",
    "print(result)\n",
    "\n",
    "# Multiplication *: Multiplies two operands.\n",
    "result = 6 * 7  # result is 42\n",
    "print(result)\n",
    "\n",
    "# Division /: Divides the left operand by the right operand, resulting in a floating-point value.\n",
    "result = 20 / 5  # result is 4.0\n",
    "\n",
    "# Modulus %: Returns the remainder when the left operand is divided by the right operand.\n",
    "remainder = 17 % 3  # remainder is 2\n",
    "print(result)\n",
    "\n",
    "# Exponentiation **: Raises the left operand to the power of the right operand.\n",
    "result = 2 ** 3  # result is 8\n",
    "print(result)\n",
    "\n",
    "# Floor Division //: Divides the left operand by the right operand and returns the largest whole number (integer) less than or equal to the result.\n",
    "result = 17 // 3  # result is 5\n",
    "print(result)\n"
   ]
  },
  {
   "cell_type": "markdown",
   "id": "243e9b57",
   "metadata": {},
   "source": [
    "Arithmetic operators are fundamental in mathematics and programming, and they are used extensively for performing mathematical calculations and solving problems in various domains, including mathematics, physics, engineering, finance, and computer science."
   ]
  },
  {
   "cell_type": "markdown",
   "id": "a640e66b",
   "metadata": {},
   "source": [
    "## Comparison operators"
   ]
  },
  {
   "cell_type": "markdown",
   "id": "37eb86d6",
   "metadata": {},
   "source": [
    "Comparison operators, also known as relational operators, are used in programming to compare two values or expressions. These operators evaluate to a Boolean value (True or False) based on the comparison result. Comparison operators are commonly used for making decisions, creating conditional statements, and controlling the flow of a program."
   ]
  },
  {
   "cell_type": "code",
   "execution_count": 6,
   "id": "a2362673",
   "metadata": {},
   "outputs": [
    {
     "name": "stdout",
     "output_type": "stream",
     "text": [
      "True\n",
      "False\n",
      "True\n",
      "True\n",
      "True\n",
      "True\n"
     ]
    }
   ],
   "source": [
    "# Equal to ==: Checks if two values or expressions are equal.\n",
    "5 == 5  # True\n",
    "5 == 7  # False\n",
    "print(5 == 5)\n",
    "\n",
    "# Not equal to !=: Checks if two values or expressions are not equal.\n",
    "5 != 7  # True\n",
    "5 != 5  # False\n",
    "print(5 != 5)\n",
    "\n",
    "# Less than <: Checks if the left operand is less than the right operand.\n",
    "3 < 5   # True\n",
    "7 < 2   # False\n",
    "print(3 < 7)\n",
    "\n",
    "# Greater than >: Checks if the left operand is greater than the right operand.\n",
    "7 > 2   # True\n",
    "3 > 5   # False\n",
    "print(7 > 3)\n",
    "\n",
    "# Less than or equal to <=: Checks if the left operand is less than or equal to the right operand.\n",
    "3 <= 5  # True\n",
    "7 <= 2  # False\n",
    "print(3 <= 7)\n",
    "\n",
    "# Greater than or equal to >=: Checks if the left operand is greater than or equal to the right operand.\n",
    "7 >= 2  # True\n",
    "3 >= 5  # False\n",
    "print(7 >= 3)"
   ]
  },
  {
   "cell_type": "markdown",
   "id": "4a4fe4ba",
   "metadata": {},
   "source": [
    "These comparison operators return a Boolean value, which can be True if the comparison is true and False if it's false. Comparison operators are commonly used in conditional statements (e.g., if statements) to control the flow of a program based on certain conditions. For example, you might use these operators to check if a value is within a specific range, compare user input to expected values, or evaluate the result of mathematical expressions."
   ]
  },
  {
   "cell_type": "markdown",
   "id": "48b57fdd",
   "metadata": {},
   "source": [
    "## Logical Operators"
   ]
  },
  {
   "cell_type": "markdown",
   "id": "05f38d3d",
   "metadata": {},
   "source": [
    "Logical operators in Python are used to perform logical operations on Boolean values or expressions. These operators allow you to combine or modify Boolean values to make more complex decisions in your code. Python has three main logical operators: and, or, and not."
   ]
  },
  {
   "cell_type": "code",
   "execution_count": null,
   "id": "4f899024",
   "metadata": {},
   "outputs": [],
   "source": [
    "1. Logical AND (and):\n",
    "\n",
    "Returns True if both operands are True.\n",
    "Returns False if at least one operand is False\n",
    "\n",
    "True and True   # True\n",
    "True and False  # False\n",
    "False and False # False\n"
   ]
  },
  {
   "cell_type": "code",
   "execution_count": 9,
   "id": "88024937",
   "metadata": {},
   "outputs": [
    {
     "name": "stdout",
     "output_type": "stream",
     "text": [
      "You are an adult student.\n"
     ]
    }
   ],
   "source": [
    "# Example in a real-world scenario:\n",
    "age = 25\n",
    "is_student = True\n",
    "\n",
    "if age > 18 and is_student:\n",
    "    print(\"You are an adult student.\")"
   ]
  },
  {
   "cell_type": "code",
   "execution_count": null,
   "id": "35255b75",
   "metadata": {},
   "outputs": [],
   "source": [
    "2. Logical OR (or):\n",
    "\n",
    "Returns True if at least one operand is True.\n",
    "Returns False if both operands are False.\n",
    "\n",
    "True or True    # True\n",
    "True or False   # True\n",
    "False or False  # False\n"
   ]
  },
  {
   "cell_type": "code",
   "execution_count": 10,
   "id": "f683eab9",
   "metadata": {},
   "outputs": [
    {
     "name": "stdout",
     "output_type": "stream",
     "text": [
      "You have access to premium content.\n"
     ]
    }
   ],
   "source": [
    "has_membership = True\n",
    "is_premium_user = False\n",
    "\n",
    "if has_membership or is_premium_user:\n",
    "    print(\"You have access to premium content.\")\n"
   ]
  },
  {
   "cell_type": "code",
   "execution_count": null,
   "id": "5efd03fa",
   "metadata": {},
   "outputs": [],
   "source": [
    "3. Logical NOT (not):\n",
    "\n",
    "Returns the opposite Boolean value of the operand.\n",
    "If the operand is True, not makes it False. If the operand is False, not makes it True.\n",
    "\n",
    "not True    # False\n",
    "not False   # True\n"
   ]
  },
  {
   "cell_type": "code",
   "execution_count": 11,
   "id": "35669b5e",
   "metadata": {},
   "outputs": [
    {
     "name": "stdout",
     "output_type": "stream",
     "text": [
      "Please log in to access your account.\n"
     ]
    }
   ],
   "source": [
    "is_logged_in = False\n",
    "\n",
    "if not is_logged_in:\n",
    "    print(\"Please log in to access your account.\")"
   ]
  },
  {
   "cell_type": "markdown",
   "id": "52347c5f",
   "metadata": {},
   "source": [
    "Logical operators are frequently used in conditional statements (such as if, elif, and else) to control program flow based on multiple conditions. They help you make decisions that depend on the combined evaluation of multiple expressions, allowing for more complex and flexible programming logic."
   ]
  },
  {
   "cell_type": "markdown",
   "id": "6977c9ca",
   "metadata": {},
   "source": [
    "## Assignment Operators"
   ]
  },
  {
   "cell_type": "markdown",
   "id": "d2bf2030",
   "metadata": {},
   "source": [
    "Assignment operators in Python are used to assign values to variables. They allow you to store and update data in variables with ease. Python provides a variety of assignment operators to perform different tasks, including simple assignment, performing arithmetic operations, and more. Here are some common assignment operators:"
   ]
  },
  {
   "cell_type": "code",
   "execution_count": 15,
   "id": "1f056b3b",
   "metadata": {},
   "outputs": [
    {
     "name": "stdout",
     "output_type": "stream",
     "text": [
      "5\n",
      "Alice\n"
     ]
    }
   ],
   "source": [
    "# 1 - Simple Assignment (=): Assigns the value on the right to the variable on the left.\n",
    "x = 5    # Assigns the value 5 to the variable x\n",
    "name = \"Alice\"  # Assigns the string \"Alice\" to the variable name\n",
    "print(x)\n",
    "print(name)"
   ]
  },
  {
   "cell_type": "code",
   "execution_count": 17,
   "id": "1a74b9ca",
   "metadata": {},
   "outputs": [
    {
     "name": "stdout",
     "output_type": "stream",
     "text": [
      "15\n"
     ]
    }
   ],
   "source": [
    "# 2 - Addition and Assignment (+=): Adds the right operand to the left operand and assigns the result to the left operand.\n",
    "count = 10\n",
    "count += 5  # Equivalent to count = count + 5, results in count being 15\n",
    "print(count)"
   ]
  },
  {
   "cell_type": "code",
   "execution_count": 18,
   "id": "abcb7424",
   "metadata": {},
   "outputs": [
    {
     "name": "stdout",
     "output_type": "stream",
     "text": [
      "80\n"
     ]
    }
   ],
   "source": [
    "# 3- Subtraction and Assignment (-=): Subtracts the right operand from the left operand and assigns the result to the left operand.\n",
    "total = 100\n",
    "total -= 20  # Equivalent to total = total - 20, results in total being 80\n",
    "print(total)"
   ]
  },
  {
   "cell_type": "code",
   "execution_count": 19,
   "id": "7933b852",
   "metadata": {},
   "outputs": [
    {
     "name": "stdout",
     "output_type": "stream",
     "text": [
      "15\n"
     ]
    }
   ],
   "source": [
    "# 4 - Multiplication and Assignment (*=): Multiplies the left operand by the right operand and assigns the result to the left operand.\n",
    "price = 5\n",
    "quantity = 3\n",
    "total_cost = 0\n",
    "total_cost += price * quantity  # Equivalent to total_cost = total_cost + (price * quantity), results in total_cost being 15\n",
    "print(total_cost)"
   ]
  },
  {
   "cell_type": "code",
   "execution_count": 20,
   "id": "c6a7e0a4",
   "metadata": {},
   "outputs": [
    {
     "name": "stdout",
     "output_type": "stream",
     "text": [
      "25.0\n"
     ]
    }
   ],
   "source": [
    "# 5 - Division and Assignment (/=): Divides the left operand by the right operand and assigns the result to the left operand.\n",
    "total = 100\n",
    "total /= 4  # Equivalent to total = total / 4, results in total being 25.0 (float division)\n",
    "print(total)"
   ]
  },
  {
   "cell_type": "code",
   "execution_count": 22,
   "id": "727d9120",
   "metadata": {},
   "outputs": [
    {
     "name": "stdout",
     "output_type": "stream",
     "text": [
      "2\n"
     ]
    }
   ],
   "source": [
    "# 6 - Modulus and Assignment (%=): Calculates the modulus of the left operand and the right operand and assigns the result to the left operand.\n",
    "remainder = 17\n",
    "remainder %= 3  # Equivalent to remainder = remainder % 3, results in remainder being 2\n",
    "print(remainder)"
   ]
  },
  {
   "cell_type": "code",
   "execution_count": 23,
   "id": "97ec164a",
   "metadata": {},
   "outputs": [
    {
     "name": "stdout",
     "output_type": "stream",
     "text": [
      "8\n"
     ]
    }
   ],
   "source": [
    "# 7 - Exponentiation and Assignment (**=): Raises the left operand to the power of the right operand and assigns the result to the left operand.\n",
    "x = 2\n",
    "x **= 3  # Equivalent to x = x ** 3, results in x being 8\n",
    "print(x)"
   ]
  },
  {
   "cell_type": "code",
   "execution_count": 24,
   "id": "fcd56ec9",
   "metadata": {},
   "outputs": [
    {
     "name": "stdout",
     "output_type": "stream",
     "text": [
      "5\n"
     ]
    }
   ],
   "source": [
    "# 8 - Floor Division and Assignment (//=): Performs floor division of the left operand by the right operand and assigns the result to the left operand.\n",
    "total = 17\n",
    "total //= 3  # Equivalent to total = total // 3, results in total being 5\n",
    "print(total)"
   ]
  },
  {
   "cell_type": "markdown",
   "id": "8fd56b71",
   "metadata": {},
   "source": [
    "Assignment operators are commonly used to update the values of variables in programming. They provide a concise way to perform operations and assignments in a single step, making code more readable and efficient."
   ]
  },
  {
   "cell_type": "markdown",
   "id": "72dafcbe",
   "metadata": {},
   "source": [
    "## Membership Operators"
   ]
  },
  {
   "cell_type": "markdown",
   "id": "054284fa",
   "metadata": {},
   "source": [
    "Membership operators in Python are used to test whether a value or element is a member of a sequence or a collection. These operators return a Boolean value (True or False) based on whether the specified value or element is found within the given sequence or collection. Python has two main membership operators: in and not in. Here's how they work:"
   ]
  },
  {
   "cell_type": "markdown",
   "id": "5d23a446",
   "metadata": {},
   "source": [
    "1. Membership Operator in:\n",
    "\n",
    "- Returns True if the specified value or element is found in the sequence or collection.\n",
    "- Returns False if the specified value or element is not found in the sequence or collection.\n",
    "\n",
    "Membership operators are often used to check if an element is present in a list, tuple, string, set, or dictionary."
   ]
  },
  {
   "cell_type": "code",
   "execution_count": 25,
   "id": "2d80f43d",
   "metadata": {},
   "outputs": [
    {
     "data": {
      "text/plain": [
       "False"
      ]
     },
     "execution_count": 25,
     "metadata": {},
     "output_type": "execute_result"
    }
   ],
   "source": [
    "my_list = [1, 2, 3, 4, 5]\n",
    "\n",
    "3 in my_list  # True\n",
    "6 in my_list  # False\n"
   ]
  },
  {
   "cell_type": "markdown",
   "id": "1fad6d94",
   "metadata": {},
   "source": [
    "2. Membership Operator not in:\n",
    "\n",
    "- Returns True if the specified value or element is not found in the sequence or collection.\n",
    "- Returns False if the specified value or element is found in the sequence or collection.\n",
    "\n",
    "The not in operator is used to check for the absence of an element in a sequence or collection."
   ]
  },
  {
   "cell_type": "code",
   "execution_count": 26,
   "id": "623a58cf",
   "metadata": {},
   "outputs": [
    {
     "data": {
      "text/plain": [
       "True"
      ]
     },
     "execution_count": 26,
     "metadata": {},
     "output_type": "execute_result"
    }
   ],
   "source": [
    "my_string = \"Hello, Python\"\n",
    "\n",
    "\"Python\" not in my_string  # False\n",
    "\"Java\" not in my_string    # True\n"
   ]
  },
  {
   "cell_type": "markdown",
   "id": "7e2d85b6",
   "metadata": {},
   "source": [
    "Membership operators are particularly useful when you want to determine if a specific value is contained within a list, string, tuple, set, or dictionary before performing certain actions or making decisions in your code. They help you write more efficient and expressive conditional statements."
   ]
  },
  {
   "cell_type": "markdown",
   "id": "d0571f12",
   "metadata": {},
   "source": [
    "## Identity Operators"
   ]
  },
  {
   "cell_type": "markdown",
   "id": "dde28284",
   "metadata": {},
   "source": [
    "Identity operators are used to compare the memory addresses of two objects to determine whether they refer to the same object in memory. These operators are often used to test object identity, which is different from testing whether objects have the same values. Python has two main identity operators: is and is not. Here's how they work:"
   ]
  },
  {
   "cell_type": "markdown",
   "id": "df41b284",
   "metadata": {},
   "source": [
    "1. Identity Operator is:\n",
    "\n",
    "- Returns True if the two operands refer to the same object in memory.\n",
    "- Returns False if the two operands do not refer to the same object in memory.\n",
    "\n",
    "In this example, x and y both reference the same list object in memory, so x is y evaluates to True."
   ]
  },
  {
   "cell_type": "code",
   "execution_count": 27,
   "id": "00eb69b0",
   "metadata": {},
   "outputs": [
    {
     "data": {
      "text/plain": [
       "True"
      ]
     },
     "execution_count": 27,
     "metadata": {},
     "output_type": "execute_result"
    }
   ],
   "source": [
    "x = [1, 2, 3]\n",
    "y = x  # Both x and y reference the same list object in memory\n",
    "\n",
    "x is y  # True"
   ]
  },
  {
   "cell_type": "markdown",
   "id": "931c47d4",
   "metadata": {},
   "source": [
    "2. Identity Operator is not:\n",
    "\n",
    "- Returns True if the two operands do not refer to the same object in memory.\n",
    "- Returns False if the two operands refer to the same object in memory.\n",
    "\n",
    "Here, a and b are two different string objects with different memory addresses, so a is not b evaluates to True."
   ]
  },
  {
   "cell_type": "code",
   "execution_count": 28,
   "id": "b25ddecf",
   "metadata": {},
   "outputs": [
    {
     "data": {
      "text/plain": [
       "True"
      ]
     },
     "execution_count": 28,
     "metadata": {},
     "output_type": "execute_result"
    }
   ],
   "source": [
    "a = \"Hello\"\n",
    "b = \"World\"\n",
    "\n",
    "a is not b  # True"
   ]
  },
  {
   "cell_type": "markdown",
   "id": "a19d65c1",
   "metadata": {},
   "source": [
    "Identity operators are primarily used when you need to check whether two variables or objects are actually the same instance in memory. They are commonly used in advanced programming scenarios and are less frequently used than comparison operators like == and !=, which compare the values of objects."
   ]
  },
  {
   "cell_type": "markdown",
   "id": "8cf7929e",
   "metadata": {},
   "source": [
    "## Bitwise Operators"
   ]
  },
  {
   "cell_type": "markdown",
   "id": "2d94984c",
   "metadata": {},
   "source": [
    "Bitwise operators in Python are used to perform operations at the bit-level of binary representations of integers. These operators work with the individual bits (0s and 1s) within integer values and are used in low-level programming, such as working with hardware or optimizing specific algorithms. Python provides several bitwise operators:"
   ]
  },
  {
   "cell_type": "markdown",
   "id": "cceb5f35",
   "metadata": {},
   "source": [
    "1 - Bitwise AND (&):\n",
    "\n",
    "- Performs a bitwise AND operation on each pair of corresponding bits.\n",
    "- Returns 1 if both bits are 1; otherwise, returns 0."
   ]
  },
  {
   "cell_type": "code",
   "execution_count": 30,
   "id": "e71ff4a6",
   "metadata": {},
   "outputs": [
    {
     "name": "stdout",
     "output_type": "stream",
     "text": [
      "1\n"
     ]
    }
   ],
   "source": [
    "a = 5    # Binary: 0101\n",
    "b = 3    # Binary: 0011\n",
    "result = a & b  # Binary: 0001, Decimal: 1\n",
    "print(result)"
   ]
  },
  {
   "cell_type": "markdown",
   "id": "976387d8",
   "metadata": {},
   "source": [
    "2 - Bitwise OR (|):\n",
    "\n",
    "- Performs a bitwise OR operation on each pair of corresponding bits.\n",
    "- Returns 1 if at least one of the bits is 1; otherwise, returns 0."
   ]
  },
  {
   "cell_type": "code",
   "execution_count": 31,
   "id": "379c5422",
   "metadata": {},
   "outputs": [
    {
     "name": "stdout",
     "output_type": "stream",
     "text": [
      "7\n"
     ]
    }
   ],
   "source": [
    "a = 5    # Binary: 0101\n",
    "b = 3    # Binary: 0011\n",
    "result = a | b  # Binary: 0111, Decimal: 7\n",
    "print(result)"
   ]
  },
  {
   "cell_type": "markdown",
   "id": "48a351a6",
   "metadata": {},
   "source": [
    "3 - Bitwise XOR (^):\n",
    "\n",
    "- Performs a bitwise XOR (exclusive OR) operation on each pair of corresponding bits.\n",
    "- Returns 1 if the bits are different; otherwise, returns 0."
   ]
  },
  {
   "cell_type": "code",
   "execution_count": 32,
   "id": "e1d6f34b",
   "metadata": {},
   "outputs": [
    {
     "name": "stdout",
     "output_type": "stream",
     "text": [
      "6\n"
     ]
    }
   ],
   "source": [
    "a = 5    # Binary: 0101\n",
    "b = 3    # Binary: 0011\n",
    "result = a ^ b  # Binary: 0110, Decimal: 6\n",
    "print(result)"
   ]
  },
  {
   "cell_type": "markdown",
   "id": "38a1de50",
   "metadata": {},
   "source": [
    "4 - Bitwise NOT (~):\n",
    "\n",
    "- Performs a bitwise NOT operation, which flips all the bits (0s become 1s and vice versa) in the operand.\n",
    "- Note that it also inverts the sign of the integer."
   ]
  },
  {
   "cell_type": "code",
   "execution_count": 33,
   "id": "a7bc3b44",
   "metadata": {},
   "outputs": [
    {
     "name": "stdout",
     "output_type": "stream",
     "text": [
      "-6\n"
     ]
    }
   ],
   "source": [
    "a = 5    # Binary: 0101\n",
    "result = ~a  # Binary: 1010 (Two's complement), Decimal: -6\n",
    "print(result)"
   ]
  },
  {
   "cell_type": "markdown",
   "id": "8a3c1c8e",
   "metadata": {},
   "source": [
    "5 - Bitwise Left Shift (<<):\n",
    "\n",
    "- Shifts the bits of the left operand to the left by a specified number of positions.\n",
    "- Fills in with 0s on the right."
   ]
  },
  {
   "cell_type": "code",
   "execution_count": 34,
   "id": "bd72f4cc",
   "metadata": {},
   "outputs": [
    {
     "name": "stdout",
     "output_type": "stream",
     "text": [
      "20\n"
     ]
    }
   ],
   "source": [
    "a = 5    # Binary: 0101\n",
    "result = a << 2  # Binary: 010100 (Decimal: 20)\n",
    "print(result)"
   ]
  },
  {
   "cell_type": "markdown",
   "id": "874a07d0",
   "metadata": {},
   "source": [
    "6 - Bitwise Right Shift (>>):\n",
    "\n",
    "- Shifts the bits of the left operand to the right by a specified number of positions.\n",
    "- Fills in with 0s on the left for non-negative integers or with the sign bit for negative integers (arithmetic right shift)"
   ]
  },
  {
   "cell_type": "code",
   "execution_count": 35,
   "id": "a05898f2",
   "metadata": {},
   "outputs": [
    {
     "name": "stdout",
     "output_type": "stream",
     "text": [
      "5\n"
     ]
    }
   ],
   "source": [
    "a = 20   # Binary: 010100\n",
    "result = a >> 2  # Binary: 000101 (Decimal: 5)\n",
    "print(result)"
   ]
  },
  {
   "cell_type": "markdown",
   "id": "955e78d0",
   "metadata": {},
   "source": [
    "Bitwise operators are used in scenarios where you need to manipulate individual bits within integer values, such as working with binary data, flags, or low-level data encoding and decoding. They are not as commonly used in everyday Python programming as other operators, but they are essential in certain specialized applications."
   ]
  },
  {
   "cell_type": "code",
   "execution_count": null,
   "id": "e4a5c9d8",
   "metadata": {},
   "outputs": [],
   "source": []
  }
 ],
 "metadata": {
  "kernelspec": {
   "display_name": "Python 3 (ipykernel)",
   "language": "python",
   "name": "python3"
  },
  "language_info": {
   "codemirror_mode": {
    "name": "ipython",
    "version": 3
   },
   "file_extension": ".py",
   "mimetype": "text/x-python",
   "name": "python",
   "nbconvert_exporter": "python",
   "pygments_lexer": "ipython3",
   "version": "3.9.13"
  }
 },
 "nbformat": 4,
 "nbformat_minor": 5
}
